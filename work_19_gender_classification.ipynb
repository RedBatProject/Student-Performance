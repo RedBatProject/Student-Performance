{
  "nbformat": 4,
  "nbformat_minor": 0,
  "metadata": {
    "colab": {
      "provenance": [],
      "mount_file_id": "1vOs0hmbkFmfz6JNe-6msaGe7xgUx1l67",
      "authorship_tag": "ABX9TyPAQg01q3nXVfpHURbZjv4G",
      "include_colab_link": true
    },
    "kernelspec": {
      "name": "python3",
      "display_name": "Python 3"
    },
    "language_info": {
      "name": "python"
    }
  },
  "cells": [
    {
      "cell_type": "markdown",
      "metadata": {
        "id": "view-in-github",
        "colab_type": "text"
      },
      "source": [
        "<a href=\"https://colab.research.google.com/github/horsinnaround/Student-Performance/blob/main/work_19_gender_classification.ipynb\" target=\"_parent\"><img src=\"https://colab.research.google.com/assets/colab-badge.svg\" alt=\"Open In Colab\"/></a>"
      ]
    },
    {
      "cell_type": "code",
      "execution_count": 1,
      "metadata": {
        "colab": {
          "base_uri": "https://localhost:8080/"
        },
        "id": "fBkZ5pD8Q61_",
        "outputId": "1d69f6e5-10b4-40a0-dadd-cfefdeb5d049"
      },
      "outputs": [
        {
          "output_type": "stream",
          "name": "stdout",
          "text": [
            "Looking in indexes: https://pypi.org/simple, https://us-python.pkg.dev/colab-wheels/public/simple/\n",
            "Collecting catboost\n",
            "  Downloading catboost-1.1.1-cp38-none-manylinux1_x86_64.whl (76.6 MB)\n",
            "\u001b[2K     \u001b[90m━━━━━━━━━━━━━━━━━━━━━━━━━━━━━━━━━━━━━━━━\u001b[0m \u001b[32m76.6/76.6 MB\u001b[0m \u001b[31m6.8 MB/s\u001b[0m eta \u001b[36m0:00:00\u001b[0m\n",
            "\u001b[?25hRequirement already satisfied: six in /usr/local/lib/python3.8/dist-packages (from catboost) (1.15.0)\n",
            "Requirement already satisfied: plotly in /usr/local/lib/python3.8/dist-packages (from catboost) (5.5.0)\n",
            "Requirement already satisfied: matplotlib in /usr/local/lib/python3.8/dist-packages (from catboost) (3.2.2)\n",
            "Requirement already satisfied: scipy in /usr/local/lib/python3.8/dist-packages (from catboost) (1.7.3)\n",
            "Requirement already satisfied: graphviz in /usr/local/lib/python3.8/dist-packages (from catboost) (0.10.1)\n",
            "Requirement already satisfied: pandas>=0.24.0 in /usr/local/lib/python3.8/dist-packages (from catboost) (1.3.5)\n",
            "Requirement already satisfied: numpy>=1.16.0 in /usr/local/lib/python3.8/dist-packages (from catboost) (1.21.6)\n",
            "Requirement already satisfied: pytz>=2017.3 in /usr/local/lib/python3.8/dist-packages (from pandas>=0.24.0->catboost) (2022.7)\n",
            "Requirement already satisfied: python-dateutil>=2.7.3 in /usr/local/lib/python3.8/dist-packages (from pandas>=0.24.0->catboost) (2.8.2)\n",
            "Requirement already satisfied: cycler>=0.10 in /usr/local/lib/python3.8/dist-packages (from matplotlib->catboost) (0.11.0)\n",
            "Requirement already satisfied: kiwisolver>=1.0.1 in /usr/local/lib/python3.8/dist-packages (from matplotlib->catboost) (1.4.4)\n",
            "Requirement already satisfied: pyparsing!=2.0.4,!=2.1.2,!=2.1.6,>=2.0.1 in /usr/local/lib/python3.8/dist-packages (from matplotlib->catboost) (3.0.9)\n",
            "Requirement already satisfied: tenacity>=6.2.0 in /usr/local/lib/python3.8/dist-packages (from plotly->catboost) (8.1.0)\n",
            "Installing collected packages: catboost\n",
            "Successfully installed catboost-1.1.1\n"
          ]
        }
      ],
      "source": [
        "from sklearn.feature_extraction.text import TfidfVectorizer\n",
        "import numpy as np\n",
        "from sklearn.decomposition import PCA\n",
        "from sklearn.tree import DecisionTreeClassifier\n",
        "from sklearn.ensemble import HistGradientBoostingClassifier,RandomForestClassifier,AdaBoostClassifier\n",
        "from sklearn.svm import SVC, NuSVC\n",
        "from sklearn import model_selection\n",
        "from sklearn.metrics import plot_confusion_matrix, classification_report, confusion_matrix, cohen_kappa_score, roc_auc_score\n",
        "from sklearn.metrics import accuracy_score, f1_score, recall_score, precision_score, jaccard_score\n",
        "from sklearn.neighbors import KNeighborsClassifier\n",
        "from sklearn.ensemble import BaggingClassifier,BaggingClassifier,GradientBoostingClassifier\n",
        "from sklearn.ensemble import GradientBoostingClassifier\n",
        "from sklearn.discriminant_analysis import LinearDiscriminantAnalysis,QuadraticDiscriminantAnalysis\n",
        "from sklearn.linear_model import LogisticRegression,Ridge,RidgeCV,Lasso,LassoLars,BayesianRidge,TweedieRegressor\n",
        "# Modeling\n",
        "from keras.models import Sequential\n",
        "from keras.layers import *\n",
        "from keras import layers\n",
        "from keras.callbacks import EarlyStopping\n",
        "from sklearn.metrics import classification_report\n",
        "from sklearn.metrics import ConfusionMatrixDisplay\n",
        "from sklearn.naive_bayes import MultinomialNB\n",
        "from sklearn.naive_bayes import GaussianNB\n",
        "from sklearn.naive_bayes import MultinomialNB\n",
        "!pip install catboost\n",
        "from catboost import CatBoostClassifier\n",
        "from xgboost import XGBClassifier\n",
        "from sklearn.neural_network import MLPClassifier\n",
        "from sklearn.gaussian_process import GaussianProcessClassifier\n",
        "from sklearn.linear_model import SGDClassifier\n",
        "from sklearn.neighbors import RadiusNeighborsClassifier\n",
        "import pandas as pd\n",
        "import numpy as np\n",
        "import matplotlib.pyplot as plt\n",
        "import seaborn as sns\n",
        "import tensorflow as tf\n",
        "import keras\n",
        "import os\n",
        "sns.set_context('notebook')\n",
        "sns.set_theme(style=\"whitegrid\")\n",
        "sns.set_style('whitegrid')\n",
        "# sns.set_palette('tab10')\n",
        "plt.rcParams['figure.figsize'] = [10,6]\n",
        "plt.rcParams['figure.dpi'] = 100\n",
        "plt.rcParams['savefig.dpi'] = 100\n",
        "# plt.rcParams['font.family'] = 'serif'\n",
        "# plt.rcParams['font.serif'] = ['Times New Roman'] + plt.rcParams['font.serif']\n",
        "# sns.set_context(\"paper\")\n",
        "path = '/content/drive/MyDrive/work 19 gender/results/'\n",
        "# os.mkdir(path)"
      ]
    },
    {
      "cell_type": "code",
      "source": [
        "data = pd.read_csv('/content/drive/MyDrive/work 19 gender/gender-classifier-DFE-791531.csv',encoding='ISO-8859-1')\n",
        "data"
      ],
      "metadata": {
        "colab": {
          "base_uri": "https://localhost:8080/",
          "height": 991
        },
        "id": "GpqyqCDlRcRL",
        "outputId": "1abc85d4-dd92-4e07-f600-d9b0e399273d"
      },
      "execution_count": 2,
      "outputs": [
        {
          "output_type": "execute_result",
          "data": {
            "text/plain": [
              "        _unit_id  _golden _unit_state  _trusted_judgments _last_judgment_at  \\\n",
              "0      815719226    False   finalized                   3    10/26/15 23:24   \n",
              "1      815719227    False   finalized                   3    10/26/15 23:30   \n",
              "2      815719228    False   finalized                   3    10/26/15 23:33   \n",
              "3      815719229    False   finalized                   3    10/26/15 23:10   \n",
              "4      815719230    False   finalized                   3     10/27/15 1:15   \n",
              "...          ...      ...         ...                 ...               ...   \n",
              "20045  815757572     True      golden                 259               NaN   \n",
              "20046  815757681     True      golden                 248               NaN   \n",
              "20047  815757830     True      golden                 264               NaN   \n",
              "20048  815757921     True      golden                 250               NaN   \n",
              "20049  815757985     True      golden                 249               NaN   \n",
              "\n",
              "       gender  gender:confidence profile_yn  profile_yn:confidence  \\\n",
              "0        male             1.0000        yes                    1.0   \n",
              "1        male             1.0000        yes                    1.0   \n",
              "2        male             0.6625        yes                    1.0   \n",
              "3        male             1.0000        yes                    1.0   \n",
              "4      female             1.0000        yes                    1.0   \n",
              "...       ...                ...        ...                    ...   \n",
              "20045  female             1.0000        yes                    1.0   \n",
              "20046    male             1.0000        yes                    1.0   \n",
              "20047    male             1.0000        yes                    1.0   \n",
              "20048  female             0.8489        yes                    1.0   \n",
              "20049  female             1.0000        yes                    1.0   \n",
              "\n",
              "              created  ...                                       profileimage  \\\n",
              "0        12/5/13 1:48  ...  https://pbs.twimg.com/profile_images/414342229...   \n",
              "1       10/1/12 13:51  ...  https://pbs.twimg.com/profile_images/539604221...   \n",
              "2      11/28/14 11:30  ...  https://pbs.twimg.com/profile_images/657330418...   \n",
              "3       6/11/09 22:39  ...  https://pbs.twimg.com/profile_images/259703936...   \n",
              "4       4/16/14 13:23  ...  https://pbs.twimg.com/profile_images/564094871...   \n",
              "...               ...  ...                                                ...   \n",
              "20045    8/5/15 21:16  ...  https://pbs.twimg.com/profile_images/656793310...   \n",
              "20046   8/15/12 21:17  ...  https://pbs.twimg.com/profile_images/639815429...   \n",
              "20047     9/3/12 1:17  ...  https://pbs.twimg.com/profile_images/655473271...   \n",
              "20048   11/6/12 23:46  ...  https://pbs.twimg.com/profile_images/657716093...   \n",
              "20049   4/14/14 17:22  ...  https://pbs.twimg.com/profile_images/655134724...   \n",
              "\n",
              "       retweet_count sidebar_color  \\\n",
              "0                  0        FFFFFF   \n",
              "1                  0        C0DEED   \n",
              "2                  1        C0DEED   \n",
              "3                  0        C0DEED   \n",
              "4                  0             0   \n",
              "...              ...           ...   \n",
              "20045              0        C0DEED   \n",
              "20046              0             0   \n",
              "20047              0        C0DEED   \n",
              "20048              0             0   \n",
              "20049              0        C0DEED   \n",
              "\n",
              "                                                    text tweet_coord  \\\n",
              "0      Robbie E Responds To Critics After Win Against...         NaN   \n",
              "1      ÛÏIt felt like they were my friends and I was...         NaN   \n",
              "2      i absolutely adore when louis starts the songs...         NaN   \n",
              "3      Hi @JordanSpieth - Looking at the url - do you...         NaN   \n",
              "4      Watching Neighbours on Sky+ catching up with t...         NaN   \n",
              "...                                                  ...         ...   \n",
              "20045  @lookupondeath ...Fine, and I'll drink tea too...         NaN   \n",
              "20046  Greg Hardy you a good player and all but don't...         NaN   \n",
              "20047  You can miss people and still never want to se...         NaN   \n",
              "20048  @bitemyapp i had noticed your tendency to pee ...         NaN   \n",
              "20049  I think for my APUSH creative project I'm goin...         NaN   \n",
              "\n",
              "      tweet_count   tweet_created      tweet_id      tweet_location  \\\n",
              "0          110964  10/26/15 12:40  6.587300e+17     main; @Kan1shk3   \n",
              "1            7471  10/26/15 12:40  6.587300e+17                 NaN   \n",
              "2            5617  10/26/15 12:40  6.587300e+17              clcncl   \n",
              "3            1693  10/26/15 12:40  6.587300e+17       Palo Alto, CA   \n",
              "4           31462  10/26/15 12:40  6.587300e+17                 NaN   \n",
              "...           ...             ...           ...                 ...   \n",
              "20045         783  10/26/15 13:20  6.587400e+17          Verona ªÁ   \n",
              "20046       13523  10/26/15 12:40  6.587300e+17     Kansas City, MO   \n",
              "20047       26419  10/26/15 13:20  6.587400e+17      Lagos Nigeria    \n",
              "20048       56073  10/26/15 12:40  6.587300e+17  Texas Hill Country   \n",
              "20049        2922  10/26/15 13:19  6.587400e+17                 NaN   \n",
              "\n",
              "                    user_timezone  \n",
              "0                         Chennai  \n",
              "1      Eastern Time (US & Canada)  \n",
              "2                        Belgrade  \n",
              "3      Pacific Time (US & Canada)  \n",
              "4                             NaN  \n",
              "...                           ...  \n",
              "20045                         NaN  \n",
              "20046                         NaN  \n",
              "20047                         NaN  \n",
              "20048                         NaN  \n",
              "20049                         NaN  \n",
              "\n",
              "[20050 rows x 26 columns]"
            ],
            "text/html": [
              "\n",
              "  <div id=\"df-6ceaa3ed-3ac7-49ad-8828-8d4366146548\">\n",
              "    <div class=\"colab-df-container\">\n",
              "      <div>\n",
              "<style scoped>\n",
              "    .dataframe tbody tr th:only-of-type {\n",
              "        vertical-align: middle;\n",
              "    }\n",
              "\n",
              "    .dataframe tbody tr th {\n",
              "        vertical-align: top;\n",
              "    }\n",
              "\n",
              "    .dataframe thead th {\n",
              "        text-align: right;\n",
              "    }\n",
              "</style>\n",
              "<table border=\"1\" class=\"dataframe\">\n",
              "  <thead>\n",
              "    <tr style=\"text-align: right;\">\n",
              "      <th></th>\n",
              "      <th>_unit_id</th>\n",
              "      <th>_golden</th>\n",
              "      <th>_unit_state</th>\n",
              "      <th>_trusted_judgments</th>\n",
              "      <th>_last_judgment_at</th>\n",
              "      <th>gender</th>\n",
              "      <th>gender:confidence</th>\n",
              "      <th>profile_yn</th>\n",
              "      <th>profile_yn:confidence</th>\n",
              "      <th>created</th>\n",
              "      <th>...</th>\n",
              "      <th>profileimage</th>\n",
              "      <th>retweet_count</th>\n",
              "      <th>sidebar_color</th>\n",
              "      <th>text</th>\n",
              "      <th>tweet_coord</th>\n",
              "      <th>tweet_count</th>\n",
              "      <th>tweet_created</th>\n",
              "      <th>tweet_id</th>\n",
              "      <th>tweet_location</th>\n",
              "      <th>user_timezone</th>\n",
              "    </tr>\n",
              "  </thead>\n",
              "  <tbody>\n",
              "    <tr>\n",
              "      <th>0</th>\n",
              "      <td>815719226</td>\n",
              "      <td>False</td>\n",
              "      <td>finalized</td>\n",
              "      <td>3</td>\n",
              "      <td>10/26/15 23:24</td>\n",
              "      <td>male</td>\n",
              "      <td>1.0000</td>\n",
              "      <td>yes</td>\n",
              "      <td>1.0</td>\n",
              "      <td>12/5/13 1:48</td>\n",
              "      <td>...</td>\n",
              "      <td>https://pbs.twimg.com/profile_images/414342229...</td>\n",
              "      <td>0</td>\n",
              "      <td>FFFFFF</td>\n",
              "      <td>Robbie E Responds To Critics After Win Against...</td>\n",
              "      <td>NaN</td>\n",
              "      <td>110964</td>\n",
              "      <td>10/26/15 12:40</td>\n",
              "      <td>6.587300e+17</td>\n",
              "      <td>main; @Kan1shk3</td>\n",
              "      <td>Chennai</td>\n",
              "    </tr>\n",
              "    <tr>\n",
              "      <th>1</th>\n",
              "      <td>815719227</td>\n",
              "      <td>False</td>\n",
              "      <td>finalized</td>\n",
              "      <td>3</td>\n",
              "      <td>10/26/15 23:30</td>\n",
              "      <td>male</td>\n",
              "      <td>1.0000</td>\n",
              "      <td>yes</td>\n",
              "      <td>1.0</td>\n",
              "      <td>10/1/12 13:51</td>\n",
              "      <td>...</td>\n",
              "      <td>https://pbs.twimg.com/profile_images/539604221...</td>\n",
              "      <td>0</td>\n",
              "      <td>C0DEED</td>\n",
              "      <td>ÛÏIt felt like they were my friends and I was...</td>\n",
              "      <td>NaN</td>\n",
              "      <td>7471</td>\n",
              "      <td>10/26/15 12:40</td>\n",
              "      <td>6.587300e+17</td>\n",
              "      <td>NaN</td>\n",
              "      <td>Eastern Time (US &amp; Canada)</td>\n",
              "    </tr>\n",
              "    <tr>\n",
              "      <th>2</th>\n",
              "      <td>815719228</td>\n",
              "      <td>False</td>\n",
              "      <td>finalized</td>\n",
              "      <td>3</td>\n",
              "      <td>10/26/15 23:33</td>\n",
              "      <td>male</td>\n",
              "      <td>0.6625</td>\n",
              "      <td>yes</td>\n",
              "      <td>1.0</td>\n",
              "      <td>11/28/14 11:30</td>\n",
              "      <td>...</td>\n",
              "      <td>https://pbs.twimg.com/profile_images/657330418...</td>\n",
              "      <td>1</td>\n",
              "      <td>C0DEED</td>\n",
              "      <td>i absolutely adore when louis starts the songs...</td>\n",
              "      <td>NaN</td>\n",
              "      <td>5617</td>\n",
              "      <td>10/26/15 12:40</td>\n",
              "      <td>6.587300e+17</td>\n",
              "      <td>clcncl</td>\n",
              "      <td>Belgrade</td>\n",
              "    </tr>\n",
              "    <tr>\n",
              "      <th>3</th>\n",
              "      <td>815719229</td>\n",
              "      <td>False</td>\n",
              "      <td>finalized</td>\n",
              "      <td>3</td>\n",
              "      <td>10/26/15 23:10</td>\n",
              "      <td>male</td>\n",
              "      <td>1.0000</td>\n",
              "      <td>yes</td>\n",
              "      <td>1.0</td>\n",
              "      <td>6/11/09 22:39</td>\n",
              "      <td>...</td>\n",
              "      <td>https://pbs.twimg.com/profile_images/259703936...</td>\n",
              "      <td>0</td>\n",
              "      <td>C0DEED</td>\n",
              "      <td>Hi @JordanSpieth - Looking at the url - do you...</td>\n",
              "      <td>NaN</td>\n",
              "      <td>1693</td>\n",
              "      <td>10/26/15 12:40</td>\n",
              "      <td>6.587300e+17</td>\n",
              "      <td>Palo Alto, CA</td>\n",
              "      <td>Pacific Time (US &amp; Canada)</td>\n",
              "    </tr>\n",
              "    <tr>\n",
              "      <th>4</th>\n",
              "      <td>815719230</td>\n",
              "      <td>False</td>\n",
              "      <td>finalized</td>\n",
              "      <td>3</td>\n",
              "      <td>10/27/15 1:15</td>\n",
              "      <td>female</td>\n",
              "      <td>1.0000</td>\n",
              "      <td>yes</td>\n",
              "      <td>1.0</td>\n",
              "      <td>4/16/14 13:23</td>\n",
              "      <td>...</td>\n",
              "      <td>https://pbs.twimg.com/profile_images/564094871...</td>\n",
              "      <td>0</td>\n",
              "      <td>0</td>\n",
              "      <td>Watching Neighbours on Sky+ catching up with t...</td>\n",
              "      <td>NaN</td>\n",
              "      <td>31462</td>\n",
              "      <td>10/26/15 12:40</td>\n",
              "      <td>6.587300e+17</td>\n",
              "      <td>NaN</td>\n",
              "      <td>NaN</td>\n",
              "    </tr>\n",
              "    <tr>\n",
              "      <th>...</th>\n",
              "      <td>...</td>\n",
              "      <td>...</td>\n",
              "      <td>...</td>\n",
              "      <td>...</td>\n",
              "      <td>...</td>\n",
              "      <td>...</td>\n",
              "      <td>...</td>\n",
              "      <td>...</td>\n",
              "      <td>...</td>\n",
              "      <td>...</td>\n",
              "      <td>...</td>\n",
              "      <td>...</td>\n",
              "      <td>...</td>\n",
              "      <td>...</td>\n",
              "      <td>...</td>\n",
              "      <td>...</td>\n",
              "      <td>...</td>\n",
              "      <td>...</td>\n",
              "      <td>...</td>\n",
              "      <td>...</td>\n",
              "      <td>...</td>\n",
              "    </tr>\n",
              "    <tr>\n",
              "      <th>20045</th>\n",
              "      <td>815757572</td>\n",
              "      <td>True</td>\n",
              "      <td>golden</td>\n",
              "      <td>259</td>\n",
              "      <td>NaN</td>\n",
              "      <td>female</td>\n",
              "      <td>1.0000</td>\n",
              "      <td>yes</td>\n",
              "      <td>1.0</td>\n",
              "      <td>8/5/15 21:16</td>\n",
              "      <td>...</td>\n",
              "      <td>https://pbs.twimg.com/profile_images/656793310...</td>\n",
              "      <td>0</td>\n",
              "      <td>C0DEED</td>\n",
              "      <td>@lookupondeath ...Fine, and I'll drink tea too...</td>\n",
              "      <td>NaN</td>\n",
              "      <td>783</td>\n",
              "      <td>10/26/15 13:20</td>\n",
              "      <td>6.587400e+17</td>\n",
              "      <td>Verona ªÁ</td>\n",
              "      <td>NaN</td>\n",
              "    </tr>\n",
              "    <tr>\n",
              "      <th>20046</th>\n",
              "      <td>815757681</td>\n",
              "      <td>True</td>\n",
              "      <td>golden</td>\n",
              "      <td>248</td>\n",
              "      <td>NaN</td>\n",
              "      <td>male</td>\n",
              "      <td>1.0000</td>\n",
              "      <td>yes</td>\n",
              "      <td>1.0</td>\n",
              "      <td>8/15/12 21:17</td>\n",
              "      <td>...</td>\n",
              "      <td>https://pbs.twimg.com/profile_images/639815429...</td>\n",
              "      <td>0</td>\n",
              "      <td>0</td>\n",
              "      <td>Greg Hardy you a good player and all but don't...</td>\n",
              "      <td>NaN</td>\n",
              "      <td>13523</td>\n",
              "      <td>10/26/15 12:40</td>\n",
              "      <td>6.587300e+17</td>\n",
              "      <td>Kansas City, MO</td>\n",
              "      <td>NaN</td>\n",
              "    </tr>\n",
              "    <tr>\n",
              "      <th>20047</th>\n",
              "      <td>815757830</td>\n",
              "      <td>True</td>\n",
              "      <td>golden</td>\n",
              "      <td>264</td>\n",
              "      <td>NaN</td>\n",
              "      <td>male</td>\n",
              "      <td>1.0000</td>\n",
              "      <td>yes</td>\n",
              "      <td>1.0</td>\n",
              "      <td>9/3/12 1:17</td>\n",
              "      <td>...</td>\n",
              "      <td>https://pbs.twimg.com/profile_images/655473271...</td>\n",
              "      <td>0</td>\n",
              "      <td>C0DEED</td>\n",
              "      <td>You can miss people and still never want to se...</td>\n",
              "      <td>NaN</td>\n",
              "      <td>26419</td>\n",
              "      <td>10/26/15 13:20</td>\n",
              "      <td>6.587400e+17</td>\n",
              "      <td>Lagos Nigeria</td>\n",
              "      <td>NaN</td>\n",
              "    </tr>\n",
              "    <tr>\n",
              "      <th>20048</th>\n",
              "      <td>815757921</td>\n",
              "      <td>True</td>\n",
              "      <td>golden</td>\n",
              "      <td>250</td>\n",
              "      <td>NaN</td>\n",
              "      <td>female</td>\n",
              "      <td>0.8489</td>\n",
              "      <td>yes</td>\n",
              "      <td>1.0</td>\n",
              "      <td>11/6/12 23:46</td>\n",
              "      <td>...</td>\n",
              "      <td>https://pbs.twimg.com/profile_images/657716093...</td>\n",
              "      <td>0</td>\n",
              "      <td>0</td>\n",
              "      <td>@bitemyapp i had noticed your tendency to pee ...</td>\n",
              "      <td>NaN</td>\n",
              "      <td>56073</td>\n",
              "      <td>10/26/15 12:40</td>\n",
              "      <td>6.587300e+17</td>\n",
              "      <td>Texas Hill Country</td>\n",
              "      <td>NaN</td>\n",
              "    </tr>\n",
              "    <tr>\n",
              "      <th>20049</th>\n",
              "      <td>815757985</td>\n",
              "      <td>True</td>\n",
              "      <td>golden</td>\n",
              "      <td>249</td>\n",
              "      <td>NaN</td>\n",
              "      <td>female</td>\n",
              "      <td>1.0000</td>\n",
              "      <td>yes</td>\n",
              "      <td>1.0</td>\n",
              "      <td>4/14/14 17:22</td>\n",
              "      <td>...</td>\n",
              "      <td>https://pbs.twimg.com/profile_images/655134724...</td>\n",
              "      <td>0</td>\n",
              "      <td>C0DEED</td>\n",
              "      <td>I think for my APUSH creative project I'm goin...</td>\n",
              "      <td>NaN</td>\n",
              "      <td>2922</td>\n",
              "      <td>10/26/15 13:19</td>\n",
              "      <td>6.587400e+17</td>\n",
              "      <td>NaN</td>\n",
              "      <td>NaN</td>\n",
              "    </tr>\n",
              "  </tbody>\n",
              "</table>\n",
              "<p>20050 rows × 26 columns</p>\n",
              "</div>\n",
              "      <button class=\"colab-df-convert\" onclick=\"convertToInteractive('df-6ceaa3ed-3ac7-49ad-8828-8d4366146548')\"\n",
              "              title=\"Convert this dataframe to an interactive table.\"\n",
              "              style=\"display:none;\">\n",
              "        \n",
              "  <svg xmlns=\"http://www.w3.org/2000/svg\" height=\"24px\"viewBox=\"0 0 24 24\"\n",
              "       width=\"24px\">\n",
              "    <path d=\"M0 0h24v24H0V0z\" fill=\"none\"/>\n",
              "    <path d=\"M18.56 5.44l.94 2.06.94-2.06 2.06-.94-2.06-.94-.94-2.06-.94 2.06-2.06.94zm-11 1L8.5 8.5l.94-2.06 2.06-.94-2.06-.94L8.5 2.5l-.94 2.06-2.06.94zm10 10l.94 2.06.94-2.06 2.06-.94-2.06-.94-.94-2.06-.94 2.06-2.06.94z\"/><path d=\"M17.41 7.96l-1.37-1.37c-.4-.4-.92-.59-1.43-.59-.52 0-1.04.2-1.43.59L10.3 9.45l-7.72 7.72c-.78.78-.78 2.05 0 2.83L4 21.41c.39.39.9.59 1.41.59.51 0 1.02-.2 1.41-.59l7.78-7.78 2.81-2.81c.8-.78.8-2.07 0-2.86zM5.41 20L4 18.59l7.72-7.72 1.47 1.35L5.41 20z\"/>\n",
              "  </svg>\n",
              "      </button>\n",
              "      \n",
              "  <style>\n",
              "    .colab-df-container {\n",
              "      display:flex;\n",
              "      flex-wrap:wrap;\n",
              "      gap: 12px;\n",
              "    }\n",
              "\n",
              "    .colab-df-convert {\n",
              "      background-color: #E8F0FE;\n",
              "      border: none;\n",
              "      border-radius: 50%;\n",
              "      cursor: pointer;\n",
              "      display: none;\n",
              "      fill: #1967D2;\n",
              "      height: 32px;\n",
              "      padding: 0 0 0 0;\n",
              "      width: 32px;\n",
              "    }\n",
              "\n",
              "    .colab-df-convert:hover {\n",
              "      background-color: #E2EBFA;\n",
              "      box-shadow: 0px 1px 2px rgba(60, 64, 67, 0.3), 0px 1px 3px 1px rgba(60, 64, 67, 0.15);\n",
              "      fill: #174EA6;\n",
              "    }\n",
              "\n",
              "    [theme=dark] .colab-df-convert {\n",
              "      background-color: #3B4455;\n",
              "      fill: #D2E3FC;\n",
              "    }\n",
              "\n",
              "    [theme=dark] .colab-df-convert:hover {\n",
              "      background-color: #434B5C;\n",
              "      box-shadow: 0px 1px 3px 1px rgba(0, 0, 0, 0.15);\n",
              "      filter: drop-shadow(0px 1px 2px rgba(0, 0, 0, 0.3));\n",
              "      fill: #FFFFFF;\n",
              "    }\n",
              "  </style>\n",
              "\n",
              "      <script>\n",
              "        const buttonEl =\n",
              "          document.querySelector('#df-6ceaa3ed-3ac7-49ad-8828-8d4366146548 button.colab-df-convert');\n",
              "        buttonEl.style.display =\n",
              "          google.colab.kernel.accessAllowed ? 'block' : 'none';\n",
              "\n",
              "        async function convertToInteractive(key) {\n",
              "          const element = document.querySelector('#df-6ceaa3ed-3ac7-49ad-8828-8d4366146548');\n",
              "          const dataTable =\n",
              "            await google.colab.kernel.invokeFunction('convertToInteractive',\n",
              "                                                     [key], {});\n",
              "          if (!dataTable) return;\n",
              "\n",
              "          const docLinkHtml = 'Like what you see? Visit the ' +\n",
              "            '<a target=\"_blank\" href=https://colab.research.google.com/notebooks/data_table.ipynb>data table notebook</a>'\n",
              "            + ' to learn more about interactive tables.';\n",
              "          element.innerHTML = '';\n",
              "          dataTable['output_type'] = 'display_data';\n",
              "          await google.colab.output.renderOutput(dataTable, element);\n",
              "          const docLink = document.createElement('div');\n",
              "          docLink.innerHTML = docLinkHtml;\n",
              "          element.appendChild(docLink);\n",
              "        }\n",
              "      </script>\n",
              "    </div>\n",
              "  </div>\n",
              "  "
            ]
          },
          "metadata": {},
          "execution_count": 2
        }
      ]
    },
    {
      "cell_type": "code",
      "source": [
        "data.columns"
      ],
      "metadata": {
        "colab": {
          "base_uri": "https://localhost:8080/"
        },
        "id": "xvPMvq66RknA",
        "outputId": "462fef91-3755-440b-e9fa-e4b4e7cf1056"
      },
      "execution_count": 3,
      "outputs": [
        {
          "output_type": "execute_result",
          "data": {
            "text/plain": [
              "Index(['_unit_id', '_golden', '_unit_state', '_trusted_judgments',\n",
              "       '_last_judgment_at', 'gender', 'gender:confidence', 'profile_yn',\n",
              "       'profile_yn:confidence', 'created', 'description', 'fav_number',\n",
              "       'gender_gold', 'link_color', 'name', 'profile_yn_gold', 'profileimage',\n",
              "       'retweet_count', 'sidebar_color', 'text', 'tweet_coord', 'tweet_count',\n",
              "       'tweet_created', 'tweet_id', 'tweet_location', 'user_timezone'],\n",
              "      dtype='object')"
            ]
          },
          "metadata": {},
          "execution_count": 3
        }
      ]
    },
    {
      "cell_type": "code",
      "source": [
        "data = data[['text','gender','gender:confidence','_golden','fav_number','retweet_count','user_timezone']]"
      ],
      "metadata": {
        "id": "09H8nzDDSo4a"
      },
      "execution_count": 4,
      "outputs": []
    },
    {
      "cell_type": "code",
      "source": [
        "df = data[data['gender:confidence']==1]"
      ],
      "metadata": {
        "id": "x2kq57vNTQA-"
      },
      "execution_count": 5,
      "outputs": []
    },
    {
      "cell_type": "code",
      "source": [
        "gender = ['female','male']"
      ],
      "metadata": {
        "id": "yaD5vBXVVVDF"
      },
      "execution_count": 6,
      "outputs": []
    },
    {
      "cell_type": "code",
      "source": [
        "df = df[df['gender'].isin(gender)]\n",
        "df['gender'].value_counts()"
      ],
      "metadata": {
        "colab": {
          "base_uri": "https://localhost:8080/"
        },
        "id": "t1Tvg4CuTRH8",
        "outputId": "84d95784-71c3-45a3-da7f-3cdc30d31fbf"
      },
      "execution_count": 7,
      "outputs": [
        {
          "output_type": "execute_result",
          "data": {
            "text/plain": [
              "female    5367\n",
              "male      4653\n",
              "Name: gender, dtype: int64"
            ]
          },
          "metadata": {},
          "execution_count": 7
        }
      ]
    },
    {
      "cell_type": "code",
      "source": [
        "df.columns"
      ],
      "metadata": {
        "colab": {
          "base_uri": "https://localhost:8080/"
        },
        "id": "15WBhhAlUuSH",
        "outputId": "d877857b-2428-4c88-d10e-6c3ca792d62c"
      },
      "execution_count": 8,
      "outputs": [
        {
          "output_type": "execute_result",
          "data": {
            "text/plain": [
              "Index(['text', 'gender', 'gender:confidence', '_golden', 'fav_number',\n",
              "       'retweet_count', 'user_timezone'],\n",
              "      dtype='object')"
            ]
          },
          "metadata": {},
          "execution_count": 8
        }
      ]
    },
    {
      "cell_type": "code",
      "source": [
        "sns.relplot(data=df,y='fav_number',x='gender',kind='scatter')\n",
        "# plt.xlim(0,1000)"
      ],
      "metadata": {
        "colab": {
          "base_uri": "https://localhost:8080/",
          "height": 518
        },
        "id": "lkFR2A-3VqYt",
        "outputId": "7ba99e2f-44a9-4518-b777-8a9b09216bf3"
      },
      "execution_count": 9,
      "outputs": [
        {
          "output_type": "execute_result",
          "data": {
            "text/plain": [
              "<seaborn.axisgrid.FacetGrid at 0x7fd47d3cad00>"
            ]
          },
          "metadata": {},
          "execution_count": 9
        },
        {
          "output_type": "display_data",
          "data": {
            "text/plain": [
              "<Figure size 500x500 with 1 Axes>"
            ],
            "image/png": "[encoded data removed]"
          },
          "metadata": {}
        }
      ]
    },
    {
      "cell_type": "code",
      "source": [
        "# df[df['gender']=='male']['tweet_count'].describe()"
      ],
      "metadata": {
        "id": "MuNujp1-YyJw"
      },
      "execution_count": 10,
      "outputs": []
    },
    {
      "cell_type": "code",
      "source": [
        "sns.relplot(data=df,y='retweet_count',x='gender',kind='scatter')\n"
      ],
      "metadata": {
        "colab": {
          "base_uri": "https://localhost:8080/",
          "height": 518
        },
        "id": "oSamkFdpV2ae",
        "outputId": "68c54164-800a-4c9d-e687-a285a56ce0d1"
      },
      "execution_count": 11,
      "outputs": [
        {
          "output_type": "execute_result",
          "data": {
            "text/plain": [
              "<seaborn.axisgrid.FacetGrid at 0x7fd47d31aeb0>"
            ]
          },
          "metadata": {},
          "execution_count": 11
        },
        {
          "output_type": "display_data",
          "data": {
            "text/plain": [
              "<Figure size 500x500 with 1 Axes>"
            ],
            "image/png": "[encoded data removed]"
          },
          "metadata": {}
        }
      ]
    },
    {
      "cell_type": "code",
      "source": [
        "df['user_timezone'].value_counts()[0:20].plot()\n",
        "plt.xticks(rotation=90)"
      ],
      "metadata": {
        "colab": {
          "base_uri": "https://localhost:8080/",
          "height": 761
        },
        "id": "ZuisoIQgYo1D",
        "outputId": "47f4c8fd-fbb3-4f00-b978-8f36c3f966a9"
      },
      "execution_count": 12,
      "outputs": [
        {
          "output_type": "execute_result",
          "data": {
            "text/plain": [
              "(array([-2.5,  0. ,  2.5,  5. ,  7.5, 10. , 12.5, 15. , 17.5, 20. ]),\n",
              " <a list of 10 Text major ticklabel objects>)"
            ]
          },
          "metadata": {},
          "execution_count": 12
        },
        {
          "output_type": "display_data",
          "data": {
            "text/plain": [
              "<Figure size 1000x600 with 1 Axes>"
            ],
            "image/png": "[encoded data removed]"
          },
          "metadata": {}
        }
      ]
    },
    {
      "cell_type": "code",
      "source": [
        "data = df[['gender','text']]"
      ],
      "metadata": {
        "id": "AXmxVOFobxrC"
      },
      "execution_count": 13,
      "outputs": []
    },
    {
      "cell_type": "code",
      "source": [
        "data"
      ],
      "metadata": {
        "colab": {
          "base_uri": "https://localhost:8080/",
          "height": 423
        },
        "id": "OJMzMF9lb5Ra",
        "outputId": "93554b31-b85b-4737-dc8b-04a5748861f7"
      },
      "execution_count": 14,
      "outputs": [
        {
          "output_type": "execute_result",
          "data": {
            "text/plain": [
              "       gender                                               text\n",
              "0        male  Robbie E Responds To Critics After Win Against...\n",
              "1        male  ÛÏIt felt like they were my friends and I was...\n",
              "3        male  Hi @JordanSpieth - Looking at the url - do you...\n",
              "4      female  Watching Neighbours on Sky+ catching up with t...\n",
              "5      female  Ive seen people on the train with lamps, chair...\n",
              "...       ...                                                ...\n",
              "20044  female  Need A Ride Home From Practice _Ù÷Ô_Ù÷Ô_Ù÷ÔAnd...\n",
              "20045  female  @lookupondeath ...Fine, and I'll drink tea too...\n",
              "20046    male  Greg Hardy you a good player and all but don't...\n",
              "20047    male  You can miss people and still never want to se...\n",
              "20049  female  I think for my APUSH creative project I'm goin...\n",
              "\n",
              "[10020 rows x 2 columns]"
            ],
            "text/html": [
              "\n",
              "  <div id=\"df-411f436a-f6b7-4eb6-97c6-95d697d7cc4c\">\n",
              "    <div class=\"colab-df-container\">\n",
              "      <div>\n",
              "<style scoped>\n",
              "    .dataframe tbody tr th:only-of-type {\n",
              "        vertical-align: middle;\n",
              "    }\n",
              "\n",
              "    .dataframe tbody tr th {\n",
              "        vertical-align: top;\n",
              "    }\n",
              "\n",
              "    .dataframe thead th {\n",
              "        text-align: right;\n",
              "    }\n",
              "</style>\n",
              "<table border=\"1\" class=\"dataframe\">\n",
              "  <thead>\n",
              "    <tr style=\"text-align: right;\">\n",
              "      <th></th>\n",
              "      <th>gender</th>\n",
              "      <th>text</th>\n",
              "    </tr>\n",
              "  </thead>\n",
              "  <tbody>\n",
              "    <tr>\n",
              "      <th>0</th>\n",
              "      <td>male</td>\n",
              "      <td>Robbie E Responds To Critics After Win Against...</td>\n",
              "    </tr>\n",
              "    <tr>\n",
              "      <th>1</th>\n",
              "      <td>male</td>\n",
              "      <td>ÛÏIt felt like they were my friends and I was...</td>\n",
              "    </tr>\n",
              "    <tr>\n",
              "      <th>3</th>\n",
              "      <td>male</td>\n",
              "      <td>Hi @JordanSpieth - Looking at the url - do you...</td>\n",
              "    </tr>\n",
              "    <tr>\n",
              "      <th>4</th>\n",
              "      <td>female</td>\n",
              "      <td>Watching Neighbours on Sky+ catching up with t...</td>\n",
              "    </tr>\n",
              "    <tr>\n",
              "      <th>5</th>\n",
              "      <td>female</td>\n",
              "      <td>Ive seen people on the train with lamps, chair...</td>\n",
              "    </tr>\n",
              "    <tr>\n",
              "      <th>...</th>\n",
              "      <td>...</td>\n",
              "      <td>...</td>\n",
              "    </tr>\n",
              "    <tr>\n",
              "      <th>20044</th>\n",
              "      <td>female</td>\n",
              "      <td>Need A Ride Home From Practice _Ù÷Ô_Ù÷Ô_Ù÷ÔAnd...</td>\n",
              "    </tr>\n",
              "    <tr>\n",
              "      <th>20045</th>\n",
              "      <td>female</td>\n",
              "      <td>@lookupondeath ...Fine, and I'll drink tea too...</td>\n",
              "    </tr>\n",
              "    <tr>\n",
              "      <th>20046</th>\n",
              "      <td>male</td>\n",
              "      <td>Greg Hardy you a good player and all but don't...</td>\n",
              "    </tr>\n",
              "    <tr>\n",
              "      <th>20047</th>\n",
              "      <td>male</td>\n",
              "      <td>You can miss people and still never want to se...</td>\n",
              "    </tr>\n",
              "    <tr>\n",
              "      <th>20049</th>\n",
              "      <td>female</td>\n",
              "      <td>I think for my APUSH creative project I'm goin...</td>\n",
              "    </tr>\n",
              "  </tbody>\n",
              "</table>\n",
              "<p>10020 rows × 2 columns</p>\n",
              "</div>\n",
              "      <button class=\"colab-df-convert\" onclick=\"convertToInteractive('df-411f436a-f6b7-4eb6-97c6-95d697d7cc4c')\"\n",
              "              title=\"Convert this dataframe to an interactive table.\"\n",
              "              style=\"display:none;\">\n",
              "        \n",
              "  <svg xmlns=\"http://www.w3.org/2000/svg\" height=\"24px\"viewBox=\"0 0 24 24\"\n",
              "       width=\"24px\">\n",
              "    <path d=\"M0 0h24v24H0V0z\" fill=\"none\"/>\n",
              "    <path d=\"M18.56 5.44l.94 2.06.94-2.06 2.06-.94-2.06-.94-.94-2.06-.94 2.06-2.06.94zm-11 1L8.5 8.5l.94-2.06 2.06-.94-2.06-.94L8.5 2.5l-.94 2.06-2.06.94zm10 10l.94 2.06.94-2.06 2.06-.94-2.06-.94-.94-2.06-.94 2.06-2.06.94z\"/><path d=\"M17.41 7.96l-1.37-1.37c-.4-.4-.92-.59-1.43-.59-.52 0-1.04.2-1.43.59L10.3 9.45l-7.72 7.72c-.78.78-.78 2.05 0 2.83L4 21.41c.39.39.9.59 1.41.59.51 0 1.02-.2 1.41-.59l7.78-7.78 2.81-2.81c.8-.78.8-2.07 0-2.86zM5.41 20L4 18.59l7.72-7.72 1.47 1.35L5.41 20z\"/>\n",
              "  </svg>\n",
              "      </button>\n",
              "      \n",
              "  <style>\n",
              "    .colab-df-container {\n",
              "      display:flex;\n",
              "      flex-wrap:wrap;\n",
              "      gap: 12px;\n",
              "    }\n",
              "\n",
              "    .colab-df-convert {\n",
              "      background-color: #E8F0FE;\n",
              "      border: none;\n",
              "      border-radius: 50%;\n",
              "      cursor: pointer;\n",
              "      display: none;\n",
              "      fill: #1967D2;\n",
              "      height: 32px;\n",
              "      padding: 0 0 0 0;\n",
              "      width: 32px;\n",
              "    }\n",
              "\n",
              "    .colab-df-convert:hover {\n",
              "      background-color: #E2EBFA;\n",
              "      box-shadow: 0px 1px 2px rgba(60, 64, 67, 0.3), 0px 1px 3px 1px rgba(60, 64, 67, 0.15);\n",
              "      fill: #174EA6;\n",
              "    }\n",
              "\n",
              "    [theme=dark] .colab-df-convert {\n",
              "      background-color: #3B4455;\n",
              "      fill: #D2E3FC;\n",
              "    }\n",
              "\n",
              "    [theme=dark] .colab-df-convert:hover {\n",
              "      background-color: #434B5C;\n",
              "      box-shadow: 0px 1px 3px 1px rgba(0, 0, 0, 0.15);\n",
              "      filter: drop-shadow(0px 1px 2px rgba(0, 0, 0, 0.3));\n",
              "      fill: #FFFFFF;\n",
              "    }\n",
              "  </style>\n",
              "\n",
              "      <script>\n",
              "        const buttonEl =\n",
              "          document.querySelector('#df-411f436a-f6b7-4eb6-97c6-95d697d7cc4c button.colab-df-convert');\n",
              "        buttonEl.style.display =\n",
              "          google.colab.kernel.accessAllowed ? 'block' : 'none';\n",
              "\n",
              "        async function convertToInteractive(key) {\n",
              "          const element = document.querySelector('#df-411f436a-f6b7-4eb6-97c6-95d697d7cc4c');\n",
              "          const dataTable =\n",
              "            await google.colab.kernel.invokeFunction('convertToInteractive',\n",
              "                                                     [key], {});\n",
              "          if (!dataTable) return;\n",
              "\n",
              "          const docLinkHtml = 'Like what you see? Visit the ' +\n",
              "            '<a target=\"_blank\" href=https://colab.research.google.com/notebooks/data_table.ipynb>data table notebook</a>'\n",
              "            + ' to learn more about interactive tables.';\n",
              "          element.innerHTML = '';\n",
              "          dataTable['output_type'] = 'display_data';\n",
              "          await google.colab.output.renderOutput(dataTable, element);\n",
              "          const docLink = document.createElement('div');\n",
              "          docLink.innerHTML = docLinkHtml;\n",
              "          element.appendChild(docLink);\n",
              "        }\n",
              "      </script>\n",
              "    </div>\n",
              "  </div>\n",
              "  "
            ]
          },
          "metadata": {},
          "execution_count": 14
        }
      ]
    },
    {
      "cell_type": "code",
      "source": [
        "import nltk\n",
        "nltk.download('stopwords')\n",
        "from nltk.corpus import stopwords\n",
        "stop = stopwords.words('english')"
      ],
      "metadata": {
        "colab": {
          "base_uri": "https://localhost:8080/"
        },
        "id": "c9iK-nzob9KS",
        "outputId": "d5fadf63-48d8-40e5-b013-c7e36784aacb"
      },
      "execution_count": 15,
      "outputs": [
        {
          "output_type": "stream",
          "name": "stderr",
          "text": [
            "[nltk_data] Downloading package stopwords to /root/nltk_data...\n",
            "[nltk_data]   Unzipping corpora/stopwords.zip.\n"
          ]
        }
      ]
    },
    {
      "cell_type": "code",
      "source": [
        "import re\n",
        "\n",
        "def  clean_text(df, text_field):\n",
        "    df[text_field] = df[text_field].str.lower()\n",
        "    df[text_field] = df[text_field].apply(lambda x: ' '.join([word for word in x.split() if word not in (stop)]))\n",
        "    df[text_field] = df[text_field].apply(lambda elem: re.sub(r\"'\", \"\", elem)) \n",
        "    df[text_field] = df[text_field].apply(lambda elem: re.sub(r\"(@[A-Za-z0-9]+)|([^0-9A-Za-z \\t])|(\\w+:\\/\\/\\S+)|^rt|http.+?\", \" \", elem))\n",
        "    df[text_field] = df[text_field].apply(lambda x: ' '.join([word for word in x.split() if word not in (stop)]))\n",
        "    df[text_field] = df[text_field].apply(lambda x: ' '.join([word for word in x.split() if len(word)>2 ]))\n",
        "    # df[text_field] = df[text_field].apply(lambda elem: re.sub(r\"([0-9])\", \" \", elem))  \n",
        "\n",
        "    df[text_field] = df[text_field].apply(lambda elem: re.sub(r\"  \", \" \", elem))  \n",
        "\n",
        "    return df\n",
        "    # train = clean_text(train_,'OriginalTweet');"
      ],
      "metadata": {
        "id": "8kZZ3pb6b9WU"
      },
      "execution_count": 16,
      "outputs": []
    },
    {
      "cell_type": "code",
      "source": [
        "data = clean_text(data,'text');"
      ],
      "metadata": {
        "id": "3T0NNtDkb_wK",
        "colab": {
          "base_uri": "https://localhost:8080/"
        },
        "outputId": "fff13044-fba8-4342-8235-a42909db8ecc"
      },
      "execution_count": 17,
      "outputs": [
        {
          "output_type": "stream",
          "name": "stderr",
          "text": [
            "<ipython-input-16-6ad986e20cf6>:4: SettingWithCopyWarning: \n",
            "A value is trying to be set on a copy of a slice from a DataFrame.\n",
            "Try using .loc[row_indexer,col_indexer] = value instead\n",
            "\n",
            "See the caveats in the documentation: https://pandas.pydata.org/pandas-docs/stable/user_guide/indexing.html#returning-a-view-versus-a-copy\n",
            "  df[text_field] = df[text_field].str.lower()\n",
            "<ipython-input-16-6ad986e20cf6>:5: SettingWithCopyWarning: \n",
            "A value is trying to be set on a copy of a slice from a DataFrame.\n",
            "Try using .loc[row_indexer,col_indexer] = value instead\n",
            "\n",
            "See the caveats in the documentation: https://pandas.pydata.org/pandas-docs/stable/user_guide/indexing.html#returning-a-view-versus-a-copy\n",
            "  df[text_field] = df[text_field].apply(lambda x: ' '.join([word for word in x.split() if word not in (stop)]))\n",
            "<ipython-input-16-6ad986e20cf6>:6: SettingWithCopyWarning: \n",
            "A value is trying to be set on a copy of a slice from a DataFrame.\n",
            "Try using .loc[row_indexer,col_indexer] = value instead\n",
            "\n",
            "See the caveats in the documentation: https://pandas.pydata.org/pandas-docs/stable/user_guide/indexing.html#returning-a-view-versus-a-copy\n",
            "  df[text_field] = df[text_field].apply(lambda elem: re.sub(r\"'\", \"\", elem))\n",
            "<ipython-input-16-6ad986e20cf6>:7: SettingWithCopyWarning: \n",
            "A value is trying to be set on a copy of a slice from a DataFrame.\n",
            "Try using .loc[row_indexer,col_indexer] = value instead\n",
            "\n",
            "See the caveats in the documentation: https://pandas.pydata.org/pandas-docs/stable/user_guide/indexing.html#returning-a-view-versus-a-copy\n",
            "  df[text_field] = df[text_field].apply(lambda elem: re.sub(r\"(@[A-Za-z0-9]+)|([^0-9A-Za-z \\t])|(\\w+:\\/\\/\\S+)|^rt|http.+?\", \" \", elem))\n",
            "<ipython-input-16-6ad986e20cf6>:8: SettingWithCopyWarning: \n",
            "A value is trying to be set on a copy of a slice from a DataFrame.\n",
            "Try using .loc[row_indexer,col_indexer] = value instead\n",
            "\n",
            "See the caveats in the documentation: https://pandas.pydata.org/pandas-docs/stable/user_guide/indexing.html#returning-a-view-versus-a-copy\n",
            "  df[text_field] = df[text_field].apply(lambda x: ' '.join([word for word in x.split() if word not in (stop)]))\n",
            "<ipython-input-16-6ad986e20cf6>:9: SettingWithCopyWarning: \n",
            "A value is trying to be set on a copy of a slice from a DataFrame.\n",
            "Try using .loc[row_indexer,col_indexer] = value instead\n",
            "\n",
            "See the caveats in the documentation: https://pandas.pydata.org/pandas-docs/stable/user_guide/indexing.html#returning-a-view-versus-a-copy\n",
            "  df[text_field] = df[text_field].apply(lambda x: ' '.join([word for word in x.split() if len(word)>2 ]))\n",
            "<ipython-input-16-6ad986e20cf6>:12: SettingWithCopyWarning: \n",
            "A value is trying to be set on a copy of a slice from a DataFrame.\n",
            "Try using .loc[row_indexer,col_indexer] = value instead\n",
            "\n",
            "See the caveats in the documentation: https://pandas.pydata.org/pandas-docs/stable/user_guide/indexing.html#returning-a-view-versus-a-copy\n",
            "  df[text_field] = df[text_field].apply(lambda elem: re.sub(r\"  \", \" \", elem))\n"
          ]
        }
      ]
    },
    {
      "cell_type": "code",
      "source": [
        "data"
      ],
      "metadata": {
        "colab": {
          "base_uri": "https://localhost:8080/",
          "height": 423
        },
        "id": "-gOVfj4icE1R",
        "outputId": "88332a76-1821-4114-c3cb-9a4fab6318a7"
      },
      "execution_count": 18,
      "outputs": [
        {
          "output_type": "execute_result",
          "data": {
            "text/plain": [
              "       gender                                               text\n",
              "0        male  robbie responds critics win eddie edwards worl...\n",
              "1        male        felt like friends living story retired ian1\n",
              "3        male        looking url use typically see advanced user\n",
              "4      female   watching neighbours sky catching neighbs xxx xxx\n",
              "5      female         ive seen people train lamps chairs tvs etc\n",
              "...       ...                                                ...\n",
              "20044  female           need ride home practice raining hard asf\n",
              "20045  female                            fine ill drink tea love\n",
              "20046    male  greg hardy good player get face dez bryant lea...\n",
              "20047    male                   miss people still never want see\n",
              "20049  female  think apush creative project going bring bacon...\n",
              "\n",
              "[10020 rows x 2 columns]"
            ],
            "text/html": [
              "\n",
              "  <div id=\"df-2c341fb3-3853-479d-b999-708ec36215b7\">\n",
              "    <div class=\"colab-df-container\">\n",
              "      <div>\n",
              "<style scoped>\n",
              "    .dataframe tbody tr th:only-of-type {\n",
              "        vertical-align: middle;\n",
              "    }\n",
              "\n",
              "    .dataframe tbody tr th {\n",
              "        vertical-align: top;\n",
              "    }\n",
              "\n",
              "    .dataframe thead th {\n",
              "        text-align: right;\n",
              "    }\n",
              "</style>\n",
              "<table border=\"1\" class=\"dataframe\">\n",
              "  <thead>\n",
              "    <tr style=\"text-align: right;\">\n",
              "      <th></th>\n",
              "      <th>gender</th>\n",
              "      <th>text</th>\n",
              "    </tr>\n",
              "  </thead>\n",
              "  <tbody>\n",
              "    <tr>\n",
              "      <th>0</th>\n",
              "      <td>male</td>\n",
              "      <td>robbie responds critics win eddie edwards worl...</td>\n",
              "    </tr>\n",
              "    <tr>\n",
              "      <th>1</th>\n",
              "      <td>male</td>\n",
              "      <td>felt like friends living story retired ian1</td>\n",
              "    </tr>\n",
              "    <tr>\n",
              "      <th>3</th>\n",
              "      <td>male</td>\n",
              "      <td>looking url use typically see advanced user</td>\n",
              "    </tr>\n",
              "    <tr>\n",
              "      <th>4</th>\n",
              "      <td>female</td>\n",
              "      <td>watching neighbours sky catching neighbs xxx xxx</td>\n",
              "    </tr>\n",
              "    <tr>\n",
              "      <th>5</th>\n",
              "      <td>female</td>\n",
              "      <td>ive seen people train lamps chairs tvs etc</td>\n",
              "    </tr>\n",
              "    <tr>\n",
              "      <th>...</th>\n",
              "      <td>...</td>\n",
              "      <td>...</td>\n",
              "    </tr>\n",
              "    <tr>\n",
              "      <th>20044</th>\n",
              "      <td>female</td>\n",
              "      <td>need ride home practice raining hard asf</td>\n",
              "    </tr>\n",
              "    <tr>\n",
              "      <th>20045</th>\n",
              "      <td>female</td>\n",
              "      <td>fine ill drink tea love</td>\n",
              "    </tr>\n",
              "    <tr>\n",
              "      <th>20046</th>\n",
              "      <td>male</td>\n",
              "      <td>greg hardy good player get face dez bryant lea...</td>\n",
              "    </tr>\n",
              "    <tr>\n",
              "      <th>20047</th>\n",
              "      <td>male</td>\n",
              "      <td>miss people still never want see</td>\n",
              "    </tr>\n",
              "    <tr>\n",
              "      <th>20049</th>\n",
              "      <td>female</td>\n",
              "      <td>think apush creative project going bring bacon...</td>\n",
              "    </tr>\n",
              "  </tbody>\n",
              "</table>\n",
              "<p>10020 rows × 2 columns</p>\n",
              "</div>\n",
              "      <button class=\"colab-df-convert\" onclick=\"convertToInteractive('df-2c341fb3-3853-479d-b999-708ec36215b7')\"\n",
              "              title=\"Convert this dataframe to an interactive table.\"\n",
              "              style=\"display:none;\">\n",
              "        \n",
              "  <svg xmlns=\"http://www.w3.org/2000/svg\" height=\"24px\"viewBox=\"0 0 24 24\"\n",
              "       width=\"24px\">\n",
              "    <path d=\"M0 0h24v24H0V0z\" fill=\"none\"/>\n",
              "    <path d=\"M18.56 5.44l.94 2.06.94-2.06 2.06-.94-2.06-.94-.94-2.06-.94 2.06-2.06.94zm-11 1L8.5 8.5l.94-2.06 2.06-.94-2.06-.94L8.5 2.5l-.94 2.06-2.06.94zm10 10l.94 2.06.94-2.06 2.06-.94-2.06-.94-.94-2.06-.94 2.06-2.06.94z\"/><path d=\"M17.41 7.96l-1.37-1.37c-.4-.4-.92-.59-1.43-.59-.52 0-1.04.2-1.43.59L10.3 9.45l-7.72 7.72c-.78.78-.78 2.05 0 2.83L4 21.41c.39.39.9.59 1.41.59.51 0 1.02-.2 1.41-.59l7.78-7.78 2.81-2.81c.8-.78.8-2.07 0-2.86zM5.41 20L4 18.59l7.72-7.72 1.47 1.35L5.41 20z\"/>\n",
              "  </svg>\n",
              "      </button>\n",
              "      \n",
              "  <style>\n",
              "    .colab-df-container {\n",
              "      display:flex;\n",
              "      flex-wrap:wrap;\n",
              "      gap: 12px;\n",
              "    }\n",
              "\n",
              "    .colab-df-convert {\n",
              "      background-color: #E8F0FE;\n",
              "      border: none;\n",
              "      border-radius: 50%;\n",
              "      cursor: pointer;\n",
              "      display: none;\n",
              "      fill: #1967D2;\n",
              "      height: 32px;\n",
              "      padding: 0 0 0 0;\n",
              "      width: 32px;\n",
              "    }\n",
              "\n",
              "    .colab-df-convert:hover {\n",
              "      background-color: #E2EBFA;\n",
              "      box-shadow: 0px 1px 2px rgba(60, 64, 67, 0.3), 0px 1px 3px 1px rgba(60, 64, 67, 0.15);\n",
              "      fill: #174EA6;\n",
              "    }\n",
              "\n",
              "    [theme=dark] .colab-df-convert {\n",
              "      background-color: #3B4455;\n",
              "      fill: #D2E3FC;\n",
              "    }\n",
              "\n",
              "    [theme=dark] .colab-df-convert:hover {\n",
              "      background-color: #434B5C;\n",
              "      box-shadow: 0px 1px 3px 1px rgba(0, 0, 0, 0.15);\n",
              "      filter: drop-shadow(0px 1px 2px rgba(0, 0, 0, 0.3));\n",
              "      fill: #FFFFFF;\n",
              "    }\n",
              "  </style>\n",
              "\n",
              "      <script>\n",
              "        const buttonEl =\n",
              "          document.querySelector('#df-2c341fb3-3853-479d-b999-708ec36215b7 button.colab-df-convert');\n",
              "        buttonEl.style.display =\n",
              "          google.colab.kernel.accessAllowed ? 'block' : 'none';\n",
              "\n",
              "        async function convertToInteractive(key) {\n",
              "          const element = document.querySelector('#df-2c341fb3-3853-479d-b999-708ec36215b7');\n",
              "          const dataTable =\n",
              "            await google.colab.kernel.invokeFunction('convertToInteractive',\n",
              "                                                     [key], {});\n",
              "          if (!dataTable) return;\n",
              "\n",
              "          const docLinkHtml = 'Like what you see? Visit the ' +\n",
              "            '<a target=\"_blank\" href=https://colab.research.google.com/notebooks/data_table.ipynb>data table notebook</a>'\n",
              "            + ' to learn more about interactive tables.';\n",
              "          element.innerHTML = '';\n",
              "          dataTable['output_type'] = 'display_data';\n",
              "          await google.colab.output.renderOutput(dataTable, element);\n",
              "          const docLink = document.createElement('div');\n",
              "          docLink.innerHTML = docLinkHtml;\n",
              "          element.appendChild(docLink);\n",
              "        }\n",
              "      </script>\n",
              "    </div>\n",
              "  </div>\n",
              "  "
            ]
          },
          "metadata": {},
          "execution_count": 18
        }
      ]
    },
    {
      "cell_type": "code",
      "source": [
        "data['gender'].value_counts().plot(kind='pie')"
      ],
      "metadata": {
        "colab": {
          "base_uri": "https://localhost:8080/",
          "height": 506
        },
        "id": "tv5YGYH4wpea",
        "outputId": "95c0ef17-d8fd-469f-d2ce-0e7ffb904b6b"
      },
      "execution_count": 19,
      "outputs": [
        {
          "output_type": "execute_result",
          "data": {
            "text/plain": [
              "<matplotlib.axes._subplots.AxesSubplot at 0x7fd47967cdc0>"
            ]
          },
          "metadata": {},
          "execution_count": 19
        },
        {
          "output_type": "display_data",
          "data": {
            "text/plain": [
              "<Figure size 1000x600 with 1 Axes>"
            ],
            "image/png": "[encoded data removed]"
          },
          "metadata": {}
        }
      ]
    },
    {
      "cell_type": "code",
      "source": [
        "data = data.sample(frac=1)"
      ],
      "metadata": {
        "id": "8IsdR0Q3g_he"
      },
      "execution_count": 20,
      "outputs": []
    },
    {
      "cell_type": "code",
      "source": [
        "from sklearn.model_selection import train_test_split\n",
        "data['class'] = data['gender'].factorize()[0]\n",
        "dtr,dts,Y,y = train_test_split(data['text'],data['class'],test_size=0.25,random_state=148)\n",
        "# del X,x\n",
        "tfidf = TfidfVectorizer(sublinear_tf=True, min_df=5,norm='l2', ngram_range=(1,3),binary=True)\n",
        "tfidffitted = tfidf.fit(data.text)\n",
        "X = tfidffitted.transform(dtr).toarray()\n",
        "x = tfidffitted.transform(dts).toarray()\n",
        "\n",
        "X.shape,x.shape,y.shape,Y.shape"
      ],
      "metadata": {
        "colab": {
          "base_uri": "https://localhost:8080/"
        },
        "id": "TR_RzTNdcJL8",
        "outputId": "1da62119-4386-4d31-9e0b-a6e5138e9211"
      },
      "execution_count": 260,
      "outputs": [
        {
          "output_type": "execute_result",
          "data": {
            "text/plain": [
              "((7515, 3232), (2505, 3232), (2505,), (7515,))"
            ]
          },
          "metadata": {},
          "execution_count": 260
        }
      ]
    },
    {
      "cell_type": "code",
      "source": [
        "from sklearn.feature_extraction.text import TfidfVectorizer"
      ],
      "metadata": {
        "id": "IwQF8pjgcYR6"
      },
      "execution_count": 23,
      "outputs": []
    },
    {
      "cell_type": "code",
      "source": [
        "g2 = df[\"retweet_count\"]/df[\"retweet_count\"].max()"
      ],
      "metadata": {
        "id": "JNTYPQL5zDZo"
      },
      "execution_count": 56,
      "outputs": []
    },
    {
      "cell_type": "code",
      "source": [
        "g2,g1"
      ],
      "metadata": {
        "id": "UhocVYLHZSET"
      },
      "execution_count": null,
      "outputs": []
    },
    {
      "cell_type": "code",
      "source": [
        "XP = np.zeros((Xp.shape[0],Xp.shape[1]+3))"
      ],
      "metadata": {
        "id": "hTbkdZLOZccZ"
      },
      "execution_count": 77,
      "outputs": []
    },
    {
      "cell_type": "code",
      "source": [],
      "metadata": {
        "colab": {
          "base_uri": "https://localhost:8080/"
        },
        "id": "7YoiqK-jaNti",
        "outputId": "17bf21a8-a313-47bd-fe50-36d42544750d"
      },
      "execution_count": 84,
      "outputs": [
        {
          "output_type": "execute_result",
          "data": {
            "text/plain": [
              "4.379084967320261"
            ]
          },
          "metadata": {},
          "execution_count": 84
        }
      ]
    },
    {
      "cell_type": "code",
      "source": [
        "XP[:,27] = g2\n",
        "XP"
      ],
      "metadata": {
        "colab": {
          "base_uri": "https://localhost:8080/"
        },
        "id": "XXACEnCOZw_Y",
        "outputId": "862b617d-1721-4720-8045-ea276e204076"
      },
      "execution_count": 80,
      "outputs": [
        {
          "output_type": "execute_result",
          "data": {
            "text/plain": [
              "array([[-0.0044911 , -0.01396114,  0.0131202 , ...,  0.        ,\n",
              "         0.        ,  0.        ],\n",
              "       [-0.00642496, -0.01706152,  0.00015349, ...,  0.        ,\n",
              "         0.00019905,  0.        ],\n",
              "       [-0.01596651, -0.02665917, -0.10261643, ...,  0.        ,\n",
              "         0.0005913 ,  0.        ],\n",
              "       ...,\n",
              "       [-0.00101556, -0.01490433,  0.01403014, ...,  0.        ,\n",
              "         0.00735611,  0.        ],\n",
              "       [-0.00119265, -0.01706252,  0.02332071, ...,  0.        ,\n",
              "         0.00014636,  0.        ],\n",
              "       [-0.00133199, -0.01468554,  0.01035457, ...,  0.        ,\n",
              "         0.00980033,  0.        ]])"
            ]
          },
          "metadata": {},
          "execution_count": 80
        }
      ]
    },
    {
      "cell_type": "code",
      "source": [
        "tfidf = TfidfVectorizer(sublinear_tf=True, min_df=5,norm='l2', ngram_range=(1,3),binary=True)\n",
        "tfidffitted = tfidf.fit(data.text)\n",
        "X_ = tfidffitted.transform(data.text).toarray()\n",
        "# x = tfidffitted.transform(dts).toarray()\n",
        "\n",
        "X_.shape\n",
        "# ,x.shape"
      ],
      "metadata": {
        "colab": {
          "base_uri": "https://localhost:8080/"
        },
        "id": "ctJ1rbvLca5i",
        "outputId": "fa4a9218-26f3-402e-c4b5-20ce912818dc"
      },
      "execution_count": 261,
      "outputs": [
        {
          "output_type": "execute_result",
          "data": {
            "text/plain": [
              "(10020, 3232)"
            ]
          },
          "metadata": {},
          "execution_count": 261
        }
      ]
    },
    {
      "cell_type": "code",
      "source": [
        "K = tfidffitted.vocabulary_"
      ],
      "metadata": {
        "id": "3PK8VFfN5gIQ"
      },
      "execution_count": 305,
      "outputs": []
    },
    {
      "cell_type": "code",
      "source": [
        "pd.DataFrame.from_dict(tfidffitted.vocabulary_)"
      ],
      "metadata": {
        "colab": {
          "base_uri": "https://localhost:8080/",
          "height": 311
        },
        "id": "L4qV-tw_2vKy",
        "outputId": "2bfeaafe-b998-41ae-e4ba-89ed5726b9ef"
      },
      "execution_count": 303,
      "outputs": [
        {
          "output_type": "error",
          "ename": "ValueError",
          "evalue": "ignored",
          "traceback": [
            "\u001b[0;31m---------------------------------------------------------------------------\u001b[0m",
            "\u001b[0;31mValueError\u001b[0m                                Traceback (most recent call last)",
            "\u001b[0;32m<ipython-input-303-865648b94e8a>\u001b[0m in \u001b[0;36m<module>\u001b[0;34m\u001b[0m\n\u001b[0;32m----> 1\u001b[0;31m \u001b[0mpd\u001b[0m\u001b[0;34m.\u001b[0m\u001b[0mDataFrame\u001b[0m\u001b[0;34m.\u001b[0m\u001b[0mfrom_dict\u001b[0m\u001b[0;34m(\u001b[0m\u001b[0mtfidffitted\u001b[0m\u001b[0;34m.\u001b[0m\u001b[0mvocabulary_\u001b[0m\u001b[0;34m)\u001b[0m\u001b[0;34m\u001b[0m\u001b[0;34m\u001b[0m\u001b[0m\n\u001b[0m",
            "\u001b[0;32m/usr/local/lib/python3.8/dist-packages/pandas/core/frame.py\u001b[0m in \u001b[0;36mfrom_dict\u001b[0;34m(cls, data, orient, dtype, columns)\u001b[0m\n\u001b[1;32m   1591\u001b[0m             \u001b[0;32mraise\u001b[0m \u001b[0mValueError\u001b[0m\u001b[0;34m(\u001b[0m\u001b[0;34m\"only recognize index or columns for orient\"\u001b[0m\u001b[0;34m)\u001b[0m\u001b[0;34m\u001b[0m\u001b[0;34m\u001b[0m\u001b[0m\n\u001b[1;32m   1592\u001b[0m \u001b[0;34m\u001b[0m\u001b[0m\n\u001b[0;32m-> 1593\u001b[0;31m         \u001b[0;32mreturn\u001b[0m \u001b[0mcls\u001b[0m\u001b[0;34m(\u001b[0m\u001b[0mdata\u001b[0m\u001b[0;34m,\u001b[0m \u001b[0mindex\u001b[0m\u001b[0;34m=\u001b[0m\u001b[0mindex\u001b[0m\u001b[0;34m,\u001b[0m \u001b[0mcolumns\u001b[0m\u001b[0;34m=\u001b[0m\u001b[0mcolumns\u001b[0m\u001b[0;34m,\u001b[0m \u001b[0mdtype\u001b[0m\u001b[0;34m=\u001b[0m\u001b[0mdtype\u001b[0m\u001b[0;34m)\u001b[0m\u001b[0;34m\u001b[0m\u001b[0;34m\u001b[0m\u001b[0m\n\u001b[0m\u001b[1;32m   1594\u001b[0m \u001b[0;34m\u001b[0m\u001b[0m\n\u001b[1;32m   1595\u001b[0m     def to_numpy(\n",
            "\u001b[0;32m/usr/local/lib/python3.8/dist-packages/pandas/core/frame.py\u001b[0m in \u001b[0;36m__init__\u001b[0;34m(self, data, index, columns, dtype, copy)\u001b[0m\n\u001b[1;32m    612\u001b[0m         \u001b[0;32melif\u001b[0m \u001b[0misinstance\u001b[0m\u001b[0;34m(\u001b[0m\u001b[0mdata\u001b[0m\u001b[0;34m,\u001b[0m \u001b[0mdict\u001b[0m\u001b[0;34m)\u001b[0m\u001b[0;34m:\u001b[0m\u001b[0;34m\u001b[0m\u001b[0;34m\u001b[0m\u001b[0m\n\u001b[1;32m    613\u001b[0m             \u001b[0;31m# GH#38939 de facto copy defaults to False only in non-dict cases\u001b[0m\u001b[0;34m\u001b[0m\u001b[0;34m\u001b[0m\u001b[0;34m\u001b[0m\u001b[0m\n\u001b[0;32m--> 614\u001b[0;31m             \u001b[0mmgr\u001b[0m \u001b[0;34m=\u001b[0m \u001b[0mdict_to_mgr\u001b[0m\u001b[0;34m(\u001b[0m\u001b[0mdata\u001b[0m\u001b[0;34m,\u001b[0m \u001b[0mindex\u001b[0m\u001b[0;34m,\u001b[0m \u001b[0mcolumns\u001b[0m\u001b[0;34m,\u001b[0m \u001b[0mdtype\u001b[0m\u001b[0;34m=\u001b[0m\u001b[0mdtype\u001b[0m\u001b[0;34m,\u001b[0m \u001b[0mcopy\u001b[0m\u001b[0;34m=\u001b[0m\u001b[0mcopy\u001b[0m\u001b[0;34m,\u001b[0m \u001b[0mtyp\u001b[0m\u001b[0;34m=\u001b[0m\u001b[0mmanager\u001b[0m\u001b[0;34m)\u001b[0m\u001b[0;34m\u001b[0m\u001b[0;34m\u001b[0m\u001b[0m\n\u001b[0m\u001b[1;32m    615\u001b[0m         \u001b[0;32melif\u001b[0m \u001b[0misinstance\u001b[0m\u001b[0;34m(\u001b[0m\u001b[0mdata\u001b[0m\u001b[0;34m,\u001b[0m \u001b[0mma\u001b[0m\u001b[0;34m.\u001b[0m\u001b[0mMaskedArray\u001b[0m\u001b[0;34m)\u001b[0m\u001b[0;34m:\u001b[0m\u001b[0;34m\u001b[0m\u001b[0;34m\u001b[0m\u001b[0m\n\u001b[1;32m    616\u001b[0m             \u001b[0;32mimport\u001b[0m \u001b[0mnumpy\u001b[0m\u001b[0;34m.\u001b[0m\u001b[0mma\u001b[0m\u001b[0;34m.\u001b[0m\u001b[0mmrecords\u001b[0m \u001b[0;32mas\u001b[0m \u001b[0mmrecords\u001b[0m\u001b[0;34m\u001b[0m\u001b[0;34m\u001b[0m\u001b[0m\n",
            "\u001b[0;32m/usr/local/lib/python3.8/dist-packages/pandas/core/internals/construction.py\u001b[0m in \u001b[0;36mdict_to_mgr\u001b[0;34m(data, index, columns, dtype, typ, copy)\u001b[0m\n\u001b[1;32m    462\u001b[0m         \u001b[0;31m# TODO: can we get rid of the dt64tz special case above?\u001b[0m\u001b[0;34m\u001b[0m\u001b[0;34m\u001b[0m\u001b[0;34m\u001b[0m\u001b[0m\n\u001b[1;32m    463\u001b[0m \u001b[0;34m\u001b[0m\u001b[0m\n\u001b[0;32m--> 464\u001b[0;31m     return arrays_to_mgr(\n\u001b[0m\u001b[1;32m    465\u001b[0m         \u001b[0marrays\u001b[0m\u001b[0;34m,\u001b[0m \u001b[0mdata_names\u001b[0m\u001b[0;34m,\u001b[0m \u001b[0mindex\u001b[0m\u001b[0;34m,\u001b[0m \u001b[0mcolumns\u001b[0m\u001b[0;34m,\u001b[0m \u001b[0mdtype\u001b[0m\u001b[0;34m=\u001b[0m\u001b[0mdtype\u001b[0m\u001b[0;34m,\u001b[0m \u001b[0mtyp\u001b[0m\u001b[0;34m=\u001b[0m\u001b[0mtyp\u001b[0m\u001b[0;34m,\u001b[0m \u001b[0mconsolidate\u001b[0m\u001b[0;34m=\u001b[0m\u001b[0mcopy\u001b[0m\u001b[0;34m\u001b[0m\u001b[0;34m\u001b[0m\u001b[0m\n\u001b[1;32m    466\u001b[0m     )\n",
            "\u001b[0;32m/usr/local/lib/python3.8/dist-packages/pandas/core/internals/construction.py\u001b[0m in \u001b[0;36marrays_to_mgr\u001b[0;34m(arrays, arr_names, index, columns, dtype, verify_integrity, typ, consolidate)\u001b[0m\n\u001b[1;32m    117\u001b[0m         \u001b[0;31m# figure out the index, if necessary\u001b[0m\u001b[0;34m\u001b[0m\u001b[0;34m\u001b[0m\u001b[0;34m\u001b[0m\u001b[0m\n\u001b[1;32m    118\u001b[0m         \u001b[0;32mif\u001b[0m \u001b[0mindex\u001b[0m \u001b[0;32mis\u001b[0m \u001b[0;32mNone\u001b[0m\u001b[0;34m:\u001b[0m\u001b[0;34m\u001b[0m\u001b[0;34m\u001b[0m\u001b[0m\n\u001b[0;32m--> 119\u001b[0;31m             \u001b[0mindex\u001b[0m \u001b[0;34m=\u001b[0m \u001b[0m_extract_index\u001b[0m\u001b[0;34m(\u001b[0m\u001b[0marrays\u001b[0m\u001b[0;34m)\u001b[0m\u001b[0;34m\u001b[0m\u001b[0;34m\u001b[0m\u001b[0m\n\u001b[0m\u001b[1;32m    120\u001b[0m         \u001b[0;32melse\u001b[0m\u001b[0;34m:\u001b[0m\u001b[0;34m\u001b[0m\u001b[0;34m\u001b[0m\u001b[0m\n\u001b[1;32m    121\u001b[0m             \u001b[0mindex\u001b[0m \u001b[0;34m=\u001b[0m \u001b[0mensure_index\u001b[0m\u001b[0;34m(\u001b[0m\u001b[0mindex\u001b[0m\u001b[0;34m)\u001b[0m\u001b[0;34m\u001b[0m\u001b[0;34m\u001b[0m\u001b[0m\n",
            "\u001b[0;32m/usr/local/lib/python3.8/dist-packages/pandas/core/internals/construction.py\u001b[0m in \u001b[0;36m_extract_index\u001b[0;34m(data)\u001b[0m\n\u001b[1;32m    623\u001b[0m \u001b[0;34m\u001b[0m\u001b[0m\n\u001b[1;32m    624\u001b[0m         \u001b[0;32mif\u001b[0m \u001b[0;32mnot\u001b[0m \u001b[0mindexes\u001b[0m \u001b[0;32mand\u001b[0m \u001b[0;32mnot\u001b[0m \u001b[0mraw_lengths\u001b[0m\u001b[0;34m:\u001b[0m\u001b[0;34m\u001b[0m\u001b[0;34m\u001b[0m\u001b[0m\n\u001b[0;32m--> 625\u001b[0;31m             \u001b[0;32mraise\u001b[0m \u001b[0mValueError\u001b[0m\u001b[0;34m(\u001b[0m\u001b[0;34m\"If using all scalar values, you must pass an index\"\u001b[0m\u001b[0;34m)\u001b[0m\u001b[0;34m\u001b[0m\u001b[0;34m\u001b[0m\u001b[0m\n\u001b[0m\u001b[1;32m    626\u001b[0m \u001b[0;34m\u001b[0m\u001b[0m\n\u001b[1;32m    627\u001b[0m         \u001b[0;32mif\u001b[0m \u001b[0mhave_series\u001b[0m\u001b[0;34m:\u001b[0m\u001b[0;34m\u001b[0m\u001b[0;34m\u001b[0m\u001b[0m\n",
            "\u001b[0;31mValueError\u001b[0m: If using all scalar values, you must pass an index"
          ]
        }
      ]
    },
    {
      "cell_type": "code",
      "source": [
        "x1 = tfidffitted.transform(data[data['class']==1].text).toarray()\n",
        "x0 = tfidffitted.transform(data[data['class']==0].text).toarray()\n",
        "\n"
      ],
      "metadata": {
        "id": "qkrQ3TIi2Wq9"
      },
      "execution_count": 276,
      "outputs": []
    },
    {
      "cell_type": "code",
      "source": [
        "x1.shape"
      ],
      "metadata": {
        "colab": {
          "base_uri": "https://localhost:8080/"
        },
        "id": "3Eql3_gs2GaM",
        "outputId": "2cfecbd8-f1f3-44fe-c229-ce185dd26490"
      },
      "execution_count": 273,
      "outputs": [
        {
          "output_type": "execute_result",
          "data": {
            "text/plain": [
              "(4653, 3232)"
            ]
          },
          "metadata": {},
          "execution_count": 273
        }
      ]
    },
    {
      "cell_type": "code",
      "source": [
        "x1.shape,x0.shape"
      ],
      "metadata": {
        "colab": {
          "base_uri": "https://localhost:8080/"
        },
        "id": "XAFBaTIV1_jT",
        "outputId": "af5e8641-cc86-4c8a-f441-f7db87b1b1e5"
      },
      "execution_count": 277,
      "outputs": [
        {
          "output_type": "execute_result",
          "data": {
            "text/plain": [
              "((4653, 3232), (5367, 3232))"
            ]
          },
          "metadata": {},
          "execution_count": 277
        }
      ]
    },
    {
      "cell_type": "code",
      "source": [
        "x1_ = x1.sum(axis=0)\n",
        "x0_ = x0.sum(axis=0)"
      ],
      "metadata": {
        "id": "WHWfztKH27qC"
      },
      "execution_count": 282,
      "outputs": []
    },
    {
      "cell_type": "code",
      "source": [
        "plt.plot(x1_,label='Male')\n",
        "plt.plot(x0_,label='Female')\n"
      ],
      "metadata": {
        "id": "aMLA_5Ai2zgc"
      },
      "execution_count": null,
      "outputs": []
    },
    {
      "cell_type": "code",
      "source": [
        "M = pd.DataFrame()\n",
        "M['Male'] = x1_\n",
        "M['Female'] = x0_"
      ],
      "metadata": {
        "id": "u6eA_jNt3bNX"
      },
      "execution_count": 285,
      "outputs": []
    },
    {
      "cell_type": "code",
      "source": [
        "# def hexbin(x, y, color, **kwargs):\n",
        "#     cmap = sns.light_palette(color, as_cmap=True)\n",
        "#     plt.hexbin(x, y, gridsize=15, cmap=cmap, **kwargs)\n",
        "\n",
        "# with sns.axes_style(\"dark\"):\n",
        "#     g = sns.FacetGrid(H, hue=\"time\", col=\"time\", height=4)\n",
        "# g.map(hexbin, \"total_bill\", \"tip\", extent=[0, 50, 0, 10]);"
      ],
      "metadata": {
        "colab": {
          "base_uri": "https://localhost:8080/",
          "height": 423
        },
        "id": "uGIAFekF4AcR",
        "outputId": "1fd6c576-41cf-4502-8621-064eabc881cf"
      },
      "execution_count": 290,
      "outputs": [
        {
          "output_type": "execute_result",
          "data": {
            "text/plain": [
              "          Male    Female\n",
              "0     2.843491  3.163452\n",
              "1     6.710524  3.967448\n",
              "2     1.527216  1.885571\n",
              "3     2.068612  0.778974\n",
              "4     1.562950  0.781334\n",
              "...        ...       ...\n",
              "3227  1.644538  0.980494\n",
              "3228  4.314275  1.811582\n",
              "3229  0.000000  1.969077\n",
              "3230  2.512182  0.462577\n",
              "3231  1.808441  0.397468\n",
              "\n",
              "[3232 rows x 2 columns]"
            ],
            "text/html": [
              "\n",
              "  <div id=\"df-6b4deed6-8a5c-4eab-84ac-7352f62cefe4\">\n",
              "    <div class=\"colab-df-container\">\n",
              "      <div>\n",
              "<style scoped>\n",
              "    .dataframe tbody tr th:only-of-type {\n",
              "        vertical-align: middle;\n",
              "    }\n",
              "\n",
              "    .dataframe tbody tr th {\n",
              "        vertical-align: top;\n",
              "    }\n",
              "\n",
              "    .dataframe thead th {\n",
              "        text-align: right;\n",
              "    }\n",
              "</style>\n",
              "<table border=\"1\" class=\"dataframe\">\n",
              "  <thead>\n",
              "    <tr style=\"text-align: right;\">\n",
              "      <th></th>\n",
              "      <th>Male</th>\n",
              "      <th>Female</th>\n",
              "    </tr>\n",
              "  </thead>\n",
              "  <tbody>\n",
              "    <tr>\n",
              "      <th>0</th>\n",
              "      <td>2.843491</td>\n",
              "      <td>3.163452</td>\n",
              "    </tr>\n",
              "    <tr>\n",
              "      <th>1</th>\n",
              "      <td>6.710524</td>\n",
              "      <td>3.967448</td>\n",
              "    </tr>\n",
              "    <tr>\n",
              "      <th>2</th>\n",
              "      <td>1.527216</td>\n",
              "      <td>1.885571</td>\n",
              "    </tr>\n",
              "    <tr>\n",
              "      <th>3</th>\n",
              "      <td>2.068612</td>\n",
              "      <td>0.778974</td>\n",
              "    </tr>\n",
              "    <tr>\n",
              "      <th>4</th>\n",
              "      <td>1.562950</td>\n",
              "      <td>0.781334</td>\n",
              "    </tr>\n",
              "    <tr>\n",
              "      <th>...</th>\n",
              "      <td>...</td>\n",
              "      <td>...</td>\n",
              "    </tr>\n",
              "    <tr>\n",
              "      <th>3227</th>\n",
              "      <td>1.644538</td>\n",
              "      <td>0.980494</td>\n",
              "    </tr>\n",
              "    <tr>\n",
              "      <th>3228</th>\n",
              "      <td>4.314275</td>\n",
              "      <td>1.811582</td>\n",
              "    </tr>\n",
              "    <tr>\n",
              "      <th>3229</th>\n",
              "      <td>0.000000</td>\n",
              "      <td>1.969077</td>\n",
              "    </tr>\n",
              "    <tr>\n",
              "      <th>3230</th>\n",
              "      <td>2.512182</td>\n",
              "      <td>0.462577</td>\n",
              "    </tr>\n",
              "    <tr>\n",
              "      <th>3231</th>\n",
              "      <td>1.808441</td>\n",
              "      <td>0.397468</td>\n",
              "    </tr>\n",
              "  </tbody>\n",
              "</table>\n",
              "<p>3232 rows × 2 columns</p>\n",
              "</div>\n",
              "      <button class=\"colab-df-convert\" onclick=\"convertToInteractive('df-6b4deed6-8a5c-4eab-84ac-7352f62cefe4')\"\n",
              "              title=\"Convert this dataframe to an interactive table.\"\n",
              "              style=\"display:none;\">\n",
              "        \n",
              "  <svg xmlns=\"http://www.w3.org/2000/svg\" height=\"24px\"viewBox=\"0 0 24 24\"\n",
              "       width=\"24px\">\n",
              "    <path d=\"M0 0h24v24H0V0z\" fill=\"none\"/>\n",
              "    <path d=\"M18.56 5.44l.94 2.06.94-2.06 2.06-.94-2.06-.94-.94-2.06-.94 2.06-2.06.94zm-11 1L8.5 8.5l.94-2.06 2.06-.94-2.06-.94L8.5 2.5l-.94 2.06-2.06.94zm10 10l.94 2.06.94-2.06 2.06-.94-2.06-.94-.94-2.06-.94 2.06-2.06.94z\"/><path d=\"M17.41 7.96l-1.37-1.37c-.4-.4-.92-.59-1.43-.59-.52 0-1.04.2-1.43.59L10.3 9.45l-7.72 7.72c-.78.78-.78 2.05 0 2.83L4 21.41c.39.39.9.59 1.41.59.51 0 1.02-.2 1.41-.59l7.78-7.78 2.81-2.81c.8-.78.8-2.07 0-2.86zM5.41 20L4 18.59l7.72-7.72 1.47 1.35L5.41 20z\"/>\n",
              "  </svg>\n",
              "      </button>\n",
              "      \n",
              "  <style>\n",
              "    .colab-df-container {\n",
              "      display:flex;\n",
              "      flex-wrap:wrap;\n",
              "      gap: 12px;\n",
              "    }\n",
              "\n",
              "    .colab-df-convert {\n",
              "      background-color: #E8F0FE;\n",
              "      border: none;\n",
              "      border-radius: 50%;\n",
              "      cursor: pointer;\n",
              "      display: none;\n",
              "      fill: #1967D2;\n",
              "      height: 32px;\n",
              "      padding: 0 0 0 0;\n",
              "      width: 32px;\n",
              "    }\n",
              "\n",
              "    .colab-df-convert:hover {\n",
              "      background-color: #E2EBFA;\n",
              "      box-shadow: 0px 1px 2px rgba(60, 64, 67, 0.3), 0px 1px 3px 1px rgba(60, 64, 67, 0.15);\n",
              "      fill: #174EA6;\n",
              "    }\n",
              "\n",
              "    [theme=dark] .colab-df-convert {\n",
              "      background-color: #3B4455;\n",
              "      fill: #D2E3FC;\n",
              "    }\n",
              "\n",
              "    [theme=dark] .colab-df-convert:hover {\n",
              "      background-color: #434B5C;\n",
              "      box-shadow: 0px 1px 3px 1px rgba(0, 0, 0, 0.15);\n",
              "      filter: drop-shadow(0px 1px 2px rgba(0, 0, 0, 0.3));\n",
              "      fill: #FFFFFF;\n",
              "    }\n",
              "  </style>\n",
              "\n",
              "      <script>\n",
              "        const buttonEl =\n",
              "          document.querySelector('#df-6b4deed6-8a5c-4eab-84ac-7352f62cefe4 button.colab-df-convert');\n",
              "        buttonEl.style.display =\n",
              "          google.colab.kernel.accessAllowed ? 'block' : 'none';\n",
              "\n",
              "        async function convertToInteractive(key) {\n",
              "          const element = document.querySelector('#df-6b4deed6-8a5c-4eab-84ac-7352f62cefe4');\n",
              "          const dataTable =\n",
              "            await google.colab.kernel.invokeFunction('convertToInteractive',\n",
              "                                                     [key], {});\n",
              "          if (!dataTable) return;\n",
              "\n",
              "          const docLinkHtml = 'Like what you see? Visit the ' +\n",
              "            '<a target=\"_blank\" href=https://colab.research.google.com/notebooks/data_table.ipynb>data table notebook</a>'\n",
              "            + ' to learn more about interactive tables.';\n",
              "          element.innerHTML = '';\n",
              "          dataTable['output_type'] = 'display_data';\n",
              "          await google.colab.output.renderOutput(dataTable, element);\n",
              "          const docLink = document.createElement('div');\n",
              "          docLink.innerHTML = docLinkHtml;\n",
              "          element.appendChild(docLink);\n",
              "        }\n",
              "      </script>\n",
              "    </div>\n",
              "  </div>\n",
              "  "
            ]
          },
          "metadata": {},
          "execution_count": 290
        }
      ]
    },
    {
      "cell_type": "code",
      "source": [
        "# M.plot(kind='hist')"
      ],
      "metadata": {
        "colab": {
          "base_uri": "https://localhost:8080/",
          "height": 535
        },
        "id": "r8JhyOXj3l8t",
        "outputId": "e7b0440e-81fa-4458-d479-50d6e9725381"
      },
      "execution_count": 289,
      "outputs": [
        {
          "output_type": "execute_result",
          "data": {
            "text/plain": [
              "<matplotlib.axes._subplots.AxesSubplot at 0x7fd4674603d0>"
            ]
          },
          "metadata": {},
          "execution_count": 289
        },
        {
          "output_type": "display_data",
          "data": {
            "text/plain": [
              "<Figure size 1000x600 with 1 Axes>"
            ],
            "image/png": "[encoded data removed]"
          },
          "metadata": {}
        }
      ]
    },
    {
      "cell_type": "code",
      "source": [
        "X,x,Y,y = train_test_split(X_,data['class'],test_size=0.25,random_state=148)\n"
      ],
      "metadata": {
        "id": "PUdb5_wgzFGG"
      },
      "execution_count": 106,
      "outputs": []
    },
    {
      "cell_type": "code",
      "source": [
        "pca = PCA(n_components=25)\n",
        "Xp = pca.fit_transform(X_)\n",
        "# xp = pca.transform(x)"
      ],
      "metadata": {
        "id": "mLWJB_2Ach9n"
      },
      "execution_count": 96,
      "outputs": []
    },
    {
      "cell_type": "code",
      "source": [
        "X,x,Y,y = train_test_split(Xp,data['class'],test_size=0.25)\n",
        "X.shape,x.shape,Y.shape,y.shape"
      ],
      "metadata": {
        "id": "dwTn-5suzWoB",
        "colab": {
          "base_uri": "https://localhost:8080/"
        },
        "outputId": "afe48e63-32b7-4f22-fa78-4cfd95101ff8"
      },
      "execution_count": 97,
      "outputs": [
        {
          "output_type": "execute_result",
          "data": {
            "text/plain": [
              "((7515, 25), (2505, 25), (7515,), (2505,))"
            ]
          },
          "metadata": {},
          "execution_count": 97
        }
      ]
    },
    {
      "cell_type": "code",
      "source": [],
      "metadata": {
        "id": "craC0g6oZA12"
      },
      "execution_count": 97,
      "outputs": []
    },
    {
      "cell_type": "code",
      "source": [
        "models = [LogisticRegression,XGBClassifier,SVC,RandomForestClassifier,AdaBoostClassifier]\n"
      ],
      "metadata": {
        "id": "P8dmTzWcc2DP"
      },
      "execution_count": 98,
      "outputs": []
    },
    {
      "cell_type": "code",
      "source": [
        "n = 4\n",
        "res = np.zeros((len(models)+1,4))\n",
        "names = []\n",
        "for k,i in enumerate(models):\n",
        "  \n",
        "  print(i().__class__.__name__)\n",
        "  names.append(i().__class__.__name__)\n",
        "  acc = 0\n",
        "  f1 = 0\n",
        "  prec = 0\n",
        "  rec = 0\n",
        "  for j in range(n):\n",
        "    X,x,Y,y = train_test_split(Xp,data['class'],test_size=0.25)\n",
        "    clf = i()\n",
        "    clf.fit(X,Y)\n",
        "    y_ = clf.predict(x)\n",
        "    acc += accuracy_score(y,y_)\n",
        "    f1 += f1_score(y,y_)\n",
        "    rec += recall_score(y,y_)\n",
        "    prec += precision_score(y,y_)\n",
        "  res[k][0],res[k][1],res[k][2],res[k][3] = round(acc/n,5),round(rec/n,5),round(prec/n,5),round(f1/n,5)\n",
        "  print(round(acc/n,5),round(rec/n,5),round(prec/n,5),round(f1/n,5))"
      ],
      "metadata": {
        "colab": {
          "base_uri": "https://localhost:8080/"
        },
        "id": "j2H-s7Kgc5T5",
        "outputId": "e6bac459-a5e8-4a77-9cb7-64809a4c2ba1"
      },
      "execution_count": 99,
      "outputs": [
        {
          "output_type": "stream",
          "name": "stdout",
          "text": [
            "LogisticRegression\n",
            "0.54242 0.15525 0.538 0.2396\n",
            "XGBClassifier\n",
            "0.56048 0.39701 0.5285 0.45265\n",
            "SVC\n",
            "0.54531 0.25024 0.50571 0.32721\n",
            "RandomForestClassifier\n",
            "0.55369 0.44014 0.51373 0.47401\n",
            "AdaBoostClassifier\n",
            "0.5516 0.42741 0.52493 0.47048\n"
          ]
        }
      ]
    },
    {
      "cell_type": "code",
      "source": [
        "res"
      ],
      "metadata": {
        "colab": {
          "base_uri": "https://localhost:8080/"
        },
        "id": "5gu5WG5I03Ml",
        "outputId": "3bdaa6a3-3521-47a5-aa5f-ec000926f8f2"
      },
      "execution_count": 101,
      "outputs": [
        {
          "output_type": "execute_result",
          "data": {
            "text/plain": [
              "array([[0.54242, 0.15525, 0.538  , 0.2396 ],\n",
              "       [0.56048, 0.39701, 0.5285 , 0.45265],\n",
              "       [0.54531, 0.25024, 0.50571, 0.32721],\n",
              "       [0.55369, 0.44014, 0.51373, 0.47401],\n",
              "       [0.5516 , 0.42741, 0.52493, 0.47048],\n",
              "       [0.     , 0.     , 0.     , 0.     ]])"
            ]
          },
          "metadata": {},
          "execution_count": 101
        }
      ]
    },
    {
      "cell_type": "code",
      "source": [
        "names"
      ],
      "metadata": {
        "colab": {
          "base_uri": "https://localhost:8080/"
        },
        "id": "vAUBpIvTxpyy",
        "outputId": "237718f3-af0a-45ab-f59b-cc01198bcc0a"
      },
      "execution_count": 100,
      "outputs": [
        {
          "output_type": "execute_result",
          "data": {
            "text/plain": [
              "['LogisticRegression',\n",
              " 'XGBClassifier',\n",
              " 'SVC',\n",
              " 'RandomForestClassifier',\n",
              " 'AdaBoostClassifier']"
            ]
          },
          "metadata": {},
          "execution_count": 100
        }
      ]
    },
    {
      "cell_type": "code",
      "source": [
        "# Modeling\n",
        "from keras.models import Sequential\n",
        "from keras.layers import *\n",
        "from keras import layers\n",
        "from keras.callbacks import EarlyStopping\n",
        "from sklearn.metrics import classification_report\n"
      ],
      "metadata": {
        "id": "TX7E6g-QdCCA"
      },
      "execution_count": 102,
      "outputs": []
    },
    {
      "cell_type": "code",
      "source": [
        "adam = tf.keras.optimizers.Adam(\n",
        "    learning_rate=0.000001,\n",
        "    beta_1=0.99,\n",
        "    beta_2=0.999,\n",
        "    epsilon=1e-09,\n",
        "\n",
        ")"
      ],
      "metadata": {
        "id": "9nsc8ujvdc0G"
      },
      "execution_count": 103,
      "outputs": []
    },
    {
      "cell_type": "code",
      "source": [
        "# Creating the deep learning model\n",
        "tf.keras.backend.clear_session()\n",
        "model = tf.keras.Sequential()\n",
        "# model.add(Input( shape=(X.shape[1],)))\n",
        "# model.add(layers.Conv1D(4, 2, activation='relu',input_shape=(X.shape[1],1),kernel_regularizer = tf.keras.regularizers.L2(0.0001)))\n",
        "model.add(layers.Conv1D(28, 3, activation='relu',input_shape=(X.shape[1],1),kernel_regularizer = tf.keras.regularizers.L2(0.000001)))\n",
        "model.add(Flatten())\n",
        "# model.add(layers.AveragePooling1D(2))\n",
        "\n",
        "model.add(layers.Dense(12,'relu',kernel_regularizer = tf.keras.regularizers.L2(0.000001)))\n",
        "model.add(layers.Dropout(0.5))\n",
        "\n",
        "model.add(layers.Dense(12,'relu',kernel_regularizer = tf.keras.regularizers.L2(0.0001)))\n",
        "model.add(layers.Dropout(0.5))\n",
        "\n",
        "\n",
        "model.add(layers.Dense(1, activation='sigmoid'))\n",
        "\n",
        "model.summary()\n",
        "model.compile(optimizer='rmsprop',loss='binary_crossentropy',metrics=['accuracy'])\n"
      ],
      "metadata": {
        "colab": {
          "base_uri": "https://localhost:8080/"
        },
        "id": "ZZmJ62t-dYAP",
        "outputId": "778b8c5f-3125-4273-9d18-0281f0ceb606"
      },
      "execution_count": 116,
      "outputs": [
        {
          "output_type": "stream",
          "name": "stdout",
          "text": [
            "Model: \"sequential\"\n",
            "_________________________________________________________________\n",
            " Layer (type)                Output Shape              Param #   \n",
            "=================================================================\n",
            " conv1d (Conv1D)             (None, 3230, 28)          112       \n",
            "                                                                 \n",
            " flatten (Flatten)           (None, 90440)             0         \n",
            "                                                                 \n",
            " dense (Dense)               (None, 12)                1085292   \n",
            "                                                                 \n",
            " dropout (Dropout)           (None, 12)                0         \n",
            "                                                                 \n",
            " dense_1 (Dense)             (None, 12)                156       \n",
            "                                                                 \n",
            " dropout_1 (Dropout)         (None, 12)                0         \n",
            "                                                                 \n",
            " dense_2 (Dense)             (None, 1)                 13        \n",
            "                                                                 \n",
            "=================================================================\n",
            "Total params: 1,085,573\n",
            "Trainable params: 1,085,573\n",
            "Non-trainable params: 0\n",
            "_________________________________________________________________\n"
          ]
        }
      ]
    },
    {
      "cell_type": "code",
      "source": [
        "num_epochs =24\n",
        "early_stop = EarlyStopping(monitor='val_loss', patience=3, restore_best_weights=True)\n",
        "history = model.fit(X,\n",
        "                    Y,\n",
        "                    batch_size=32,\n",
        "                    epochs=num_epochs, \n",
        "                    validation_split=0.2,\n",
        "                    # validation_data=[x,y],\n",
        "                    callbacks =[early_stop],\n",
        "                    # verbose=0\n",
        "                    )\n",
        "y_test = model.predict(x)\n",
        "y_test = y_test.reshape(y_test.shape[0],)\n",
        "y_test[y_test > 0.5] = 1\n",
        "y_test[y_test < 0.5] = 0\n",
        "y_pre = y_test\n",
        "y_tre = y\n",
        "# print(f\"the accuracy is: {(y_pre==y_tre).sum()/y_pre.shape[0]}\")\n",
        "# accuracy_score(y_tre,y_pre), , , \n",
        "print(round(accuracy_score(y_tre,y_pre),5),round(recall_score(y_tre,y_pre),5),round(precision_score(y_tre,y_pre),5),round(f1_score(y_tre,y_pre),5))"
      ],
      "metadata": {
        "colab": {
          "base_uri": "https://localhost:8080/"
        },
        "id": "4v-8BfLtdZnp",
        "outputId": "01437ece-5840-4aea-83f9-7ebfdd96df9e"
      },
      "execution_count": 117,
      "outputs": [
        {
          "output_type": "stream",
          "name": "stdout",
          "text": [
            "Epoch 1/24\n",
            "188/188 [==============================] - 12s 53ms/step - loss: 0.6939 - accuracy: 0.5243 - val_loss: 0.6913 - val_accuracy: 0.5336\n",
            "Epoch 2/24\n",
            "188/188 [==============================] - 10s 52ms/step - loss: 0.6907 - accuracy: 0.5286 - val_loss: 0.6877 - val_accuracy: 0.5336\n",
            "Epoch 3/24\n",
            "188/188 [==============================] - 10s 53ms/step - loss: 0.6823 - accuracy: 0.5294 - val_loss: 0.6823 - val_accuracy: 0.5336\n",
            "Epoch 4/24\n",
            "188/188 [==============================] - 10s 52ms/step - loss: 0.6708 - accuracy: 0.5697 - val_loss: 0.6803 - val_accuracy: 0.5749\n",
            "Epoch 5/24\n",
            "188/188 [==============================] - 10s 52ms/step - loss: 0.6591 - accuracy: 0.6065 - val_loss: 0.6799 - val_accuracy: 0.5808\n",
            "Epoch 6/24\n",
            "188/188 [==============================] - 10s 52ms/step - loss: 0.6498 - accuracy: 0.6236 - val_loss: 0.6822 - val_accuracy: 0.5689\n",
            "Epoch 7/24\n",
            "188/188 [==============================] - 10s 53ms/step - loss: 0.6437 - accuracy: 0.6349 - val_loss: 0.6854 - val_accuracy: 0.5635\n",
            "Epoch 8/24\n",
            "188/188 [==============================] - 10s 52ms/step - loss: 0.6405 - accuracy: 0.6505 - val_loss: 0.6903 - val_accuracy: 0.5403\n",
            "79/79 [==============================] - 1s 17ms/step\n",
            "0.602 0.4316 0.58076 0.49519\n"
          ]
        }
      ]
    },
    {
      "cell_type": "code",
      "source": [
        "res[-1][0],res[-1][1],res[-1][2],res[-1][3] = round(accuracy_score(y_tre,y_pre),5),round(recall_score(y_tre,y_pre),5),round(precision_score(y_tre,y_pre),5),round(f1_score(y_tre,y_pre),5)"
      ],
      "metadata": {
        "id": "DkK-3x4hdfVz"
      },
      "execution_count": 118,
      "outputs": []
    },
    {
      "cell_type": "code",
      "source": [
        "res"
      ],
      "metadata": {
        "colab": {
          "base_uri": "https://localhost:8080/"
        },
        "id": "1iGwsDHk5LLW",
        "outputId": "acb5d111-dec5-4350-a780-fa8968fa141a"
      },
      "execution_count": 119,
      "outputs": [
        {
          "output_type": "execute_result",
          "data": {
            "text/plain": [
              "array([[0.54242, 0.15525, 0.538  , 0.2396 ],\n",
              "       [0.56048, 0.39701, 0.5285 , 0.45265],\n",
              "       [0.54531, 0.25024, 0.50571, 0.32721],\n",
              "       [0.55369, 0.44014, 0.51373, 0.47401],\n",
              "       [0.5516 , 0.42741, 0.52493, 0.47048],\n",
              "       [0.602  , 0.4316 , 0.58076, 0.49519]])"
            ]
          },
          "metadata": {},
          "execution_count": 119
        }
      ]
    },
    {
      "cell_type": "code",
      "source": [
        "ll = pd.DataFrame(res,columns=['accuracy','preccision','recall','f1'])"
      ],
      "metadata": {
        "id": "swXkOX8Q5jKg"
      },
      "execution_count": 120,
      "outputs": []
    },
    {
      "cell_type": "code",
      "source": [],
      "metadata": {
        "id": "4y6C8pFAePAo"
      },
      "execution_count": null,
      "outputs": []
    },
    {
      "cell_type": "code",
      "source": [
        "names.append('ConvolutionalNN')"
      ],
      "metadata": {
        "id": "Svn1XfzTeHSB"
      },
      "execution_count": 123,
      "outputs": []
    },
    {
      "cell_type": "code",
      "source": [
        "ll.to_csv(f'{path}res.csv',index=False)"
      ],
      "metadata": {
        "id": "5leppAFn64zL"
      },
      "execution_count": 121,
      "outputs": []
    },
    {
      "cell_type": "code",
      "source": [
        "from keras.preprocessing.text import Tokenizer\n",
        "from tensorflow.keras.preprocessing.sequence import pad_sequences\n",
        "import numpy as np"
      ],
      "metadata": {
        "id": "Vpl3fTbw65v7"
      },
      "execution_count": 124,
      "outputs": []
    },
    {
      "cell_type": "code",
      "source": [
        "data['length'] = data['text'].str.split().apply(len)"
      ],
      "metadata": {
        "id": "vXt7B3rxfu0-"
      },
      "execution_count": 128,
      "outputs": []
    },
    {
      "cell_type": "code",
      "source": [
        "data['length'].max()"
      ],
      "metadata": {
        "colab": {
          "base_uri": "https://localhost:8080/"
        },
        "id": "SQMUI3eWf7i2",
        "outputId": "4a3774be-4763-407f-c90d-852bbcfcfc32"
      },
      "execution_count": 130,
      "outputs": [
        {
          "output_type": "execute_result",
          "data": {
            "text/plain": [
              "20"
            ]
          },
          "metadata": {},
          "execution_count": 130
        }
      ]
    },
    {
      "cell_type": "code",
      "source": [
        "maxlen = 20\n",
        "max_words = 300\n",
        "tokenizer = Tokenizer(num_words=max_words)\n",
        "tokenizer.fit_on_texts(data.text)\n",
        "Xsequences = tokenizer.texts_to_sequences(data.text)\n",
        "# xsequences = tokenizer.texts_to_sequences(test.OriginalTweet)"
      ],
      "metadata": {
        "id": "JAQl1Xy6csZJ"
      },
      "execution_count": 132,
      "outputs": []
    },
    {
      "cell_type": "code",
      "source": [
        "trainpadded = pad_sequences(Xsequences, maxlen=maxlen)\n",
        "# testpadded = pad_sequences(xsequences, maxlen=maxlen)"
      ],
      "metadata": {
        "id": "ut9RfBmHcvMc"
      },
      "execution_count": 133,
      "outputs": []
    },
    {
      "cell_type": "code",
      "source": [
        "embedding_dim = 18"
      ],
      "metadata": {
        "id": "iQFAE3anc4e2"
      },
      "execution_count": 134,
      "outputs": []
    },
    {
      "cell_type": "code",
      "source": [
        "X,x,Y,y = train_test_split(trainpadded,data['class'],test_size=0.25)\n",
        "X.shape,x.shape,Y.shape,y.shape"
      ],
      "metadata": {
        "colab": {
          "base_uri": "https://localhost:8080/"
        },
        "id": "AUn4saupg8tO",
        "outputId": "6261b265-9df4-45b1-d329-e61bd86dad73"
      },
      "execution_count": 135,
      "outputs": [
        {
          "output_type": "execute_result",
          "data": {
            "text/plain": [
              "((7515, 20), (2505, 20), (7515,), (2505,))"
            ]
          },
          "metadata": {},
          "execution_count": 135
        }
      ]
    },
    {
      "cell_type": "code",
      "source": [
        "from keras.models import Sequential\n",
        "from keras.layers import Embedding, Flatten, Dense,Conv1D,GlobalAveragePooling1D,Dropout,MaxPooling1D,ConvLSTM1D,LSTM\n",
        "model = Sequential()\n",
        "model.add(Embedding(max_words, embedding_dim, input_length=maxlen))\n",
        "# model.add(ConvLSTM1D(32, 2, activation='relu'))\n",
        "# model.add(LSTM(32,return_sequences=True ))\n",
        "\n",
        "# model.add(LSTM(100,return_sequences=True ))\n",
        "# model.add(LSTM(100))\n",
        "model.add(Conv1D(filters=32, kernel_size=2, padding='same', activation='relu'))\n",
        "model.add(MaxPooling1D(pool_size=2))\n",
        "model.add(LSTM(100,activation='relu'))\n",
        "# model.add(MaxPooling1D(2))\n",
        "# model.add(Conv1D(48, 2, activation='relu'))\n",
        "# model.add(MaxPooling1D(2))\n",
        "# model.add(Conv1D(128, 2, activation='relu'))\n",
        "# model.add(Flatten())\n",
        "# model.add(GlobalAveragePooling1D())\n",
        "# model.add(Dense(32, activation='relu',kernel_regularizer = tf.keras.regularizers.L2(0.0001)))\n",
        "# model.add(Dense(24, activation='relu',kernel_regularizer = tf.keras.regularizers.L2(0.0001)))\n",
        "\n",
        "# model.add(Dropout(0.3))\n",
        "model.add(Dense(12, activation='relu',kernel_regularizer = tf.keras.regularizers.L2(0.0001)))\n",
        "model.add(Dropout(0.5))\n",
        "model.add(Dense(1, activation='sigmoid'))\n",
        "model.summary()\n",
        "model.compile(optimizer='rmsprop',loss='binary_crossentropy',metrics=['accuracy'])"
      ],
      "metadata": {
        "colab": {
          "base_uri": "https://localhost:8080/"
        },
        "id": "kgF119bYczro",
        "outputId": "4d268476-9a7c-44e8-b46f-d876f4f9c31f"
      },
      "execution_count": 221,
      "outputs": [
        {
          "output_type": "stream",
          "name": "stdout",
          "text": [
            "Model: \"sequential_31\"\n",
            "_________________________________________________________________\n",
            " Layer (type)                Output Shape              Param #   \n",
            "=================================================================\n",
            " embedding_30 (Embedding)    (None, 20, 18)            5400      \n",
            "                                                                 \n",
            " conv1d_16 (Conv1D)          (None, 20, 32)            1184      \n",
            "                                                                 \n",
            " max_pooling1d_15 (MaxPoolin  (None, 10, 32)           0         \n",
            " g1D)                                                            \n",
            "                                                                 \n",
            " lstm_28 (LSTM)              (None, 100)               53200     \n",
            "                                                                 \n",
            " dense_73 (Dense)            (None, 12)                1212      \n",
            "                                                                 \n",
            " dropout_45 (Dropout)        (None, 12)                0         \n",
            "                                                                 \n",
            " dense_74 (Dense)            (None, 1)                 13        \n",
            "                                                                 \n",
            "=================================================================\n",
            "Total params: 61,009\n",
            "Trainable params: 61,009\n",
            "Non-trainable params: 0\n",
            "_________________________________________________________________\n"
          ]
        }
      ]
    },
    {
      "cell_type": "code",
      "source": [
        "num_epochs =24\n",
        "early_stop = EarlyStopping(monitor='val_loss', patience=3, restore_best_weights=True)\n",
        "history = model.fit(X,\n",
        "                    Y,\n",
        "                    batch_size=32,\n",
        "                    epochs=num_epochs, \n",
        "                    validation_split=0.2,\n",
        "                    # validation_data=[x,y],\n",
        "                    callbacks =[early_stop],\n",
        "                    # verbose=0\n",
        "                    )\n",
        "y_test = model.predict(x)\n",
        "y_test = y_test.reshape(y_test.shape[0],)\n",
        "y_test[y_test > 0.5] = 1\n",
        "y_test[y_test < 0.5] = 0\n",
        "y_pre = y_test\n",
        "y_tre = y\n",
        "# print(f\"the accuracy is: {(y_pre==y_tre).sum()/y_pre.shape[0]}\")\n",
        "# accuracy_score(y_tre,y_pre), , , \n",
        "print(round(accuracy_score(y_tre,y_pre),5),round(recall_score(y_tre,y_pre),5),round(precision_score(y_tre,y_pre),5),round(f1_score(y_tre,y_pre),5))"
      ],
      "metadata": {
        "colab": {
          "base_uri": "https://localhost:8080/"
        },
        "id": "LCAabVgRhDhW",
        "outputId": "6bf7bfec-ff23-4685-f2b4-5858af6ce35b"
      },
      "execution_count": 222,
      "outputs": [
        {
          "output_type": "stream",
          "name": "stdout",
          "text": [
            "Epoch 1/24\n",
            "188/188 [==============================] - 7s 16ms/step - loss: 0.6928 - accuracy: 0.5366 - val_loss: 0.6909 - val_accuracy: 0.5316\n",
            "Epoch 2/24\n",
            "188/188 [==============================] - 3s 14ms/step - loss: 0.6874 - accuracy: 0.5388 - val_loss: 0.6835 - val_accuracy: 0.5316\n",
            "Epoch 3/24\n",
            "188/188 [==============================] - 3s 14ms/step - loss: 0.6836 - accuracy: 0.5388 - val_loss: 0.6833 - val_accuracy: 0.5316\n",
            "Epoch 4/24\n",
            "188/188 [==============================] - 3s 13ms/step - loss: 0.6787 - accuracy: 0.5388 - val_loss: 0.6826 - val_accuracy: 0.5316\n",
            "Epoch 5/24\n",
            "188/188 [==============================] - 3s 14ms/step - loss: 0.6743 - accuracy: 0.5388 - val_loss: 0.6828 - val_accuracy: 0.5316\n",
            "Epoch 6/24\n",
            "188/188 [==============================] - 3s 14ms/step - loss: 0.6737 - accuracy: 0.5536 - val_loss: 0.6825 - val_accuracy: 0.5502\n",
            "Epoch 7/24\n",
            "188/188 [==============================] - 3s 14ms/step - loss: 0.6698 - accuracy: 0.5615 - val_loss: 0.6916 - val_accuracy: 0.5476\n",
            "Epoch 8/24\n",
            "188/188 [==============================] - 3s 14ms/step - loss: 0.6716 - accuracy: 0.5600 - val_loss: 0.6814 - val_accuracy: 0.5522\n",
            "Epoch 9/24\n",
            "188/188 [==============================] - 3s 14ms/step - loss: 0.6711 - accuracy: 0.5589 - val_loss: 0.6830 - val_accuracy: 0.5502\n",
            "Epoch 10/24\n",
            "188/188 [==============================] - 3s 13ms/step - loss: 0.6659 - accuracy: 0.5715 - val_loss: 0.6821 - val_accuracy: 0.5482\n",
            "Epoch 11/24\n",
            "188/188 [==============================] - 3s 14ms/step - loss: 0.6638 - accuracy: 0.5753 - val_loss: 0.6898 - val_accuracy: 0.5496\n",
            "79/79 [==============================] - 1s 5ms/step\n",
            "0.56048 0.61054 0.52755 0.56602\n"
          ]
        }
      ]
    },
    {
      "cell_type": "code",
      "source": [],
      "metadata": {
        "id": "hasPKUoonHei"
      },
      "execution_count": null,
      "outputs": []
    },
    {
      "cell_type": "code",
      "source": [
        "# res2 = np.zeros((res.shape[0]+1,res.shape[1]))\n",
        "# res2[0:-1,:] = res\n",
        "\n",
        "res2[-1][0],res2[-1][1],res2[-1][2],res2[-1][3] = round(accuracy_score(y_tre,y_pre),5),round(recall_score(y_tre,y_pre),5),round(precision_score(y_tre,y_pre),5),round(f1_score(y_tre,y_pre),5)\n",
        "res2"
      ],
      "metadata": {
        "colab": {
          "base_uri": "https://localhost:8080/"
        },
        "id": "dAOCP5qzhJqh",
        "outputId": "7c1f8fee-c52d-457c-bd26-b29cafcfb87d"
      },
      "execution_count": 223,
      "outputs": [
        {
          "output_type": "execute_result",
          "data": {
            "text/plain": [
              "array([[0.54242, 0.15525, 0.538  , 0.2396 ],\n",
              "       [0.56048, 0.39701, 0.5285 , 0.45265],\n",
              "       [0.54531, 0.25024, 0.50571, 0.32721],\n",
              "       [0.55369, 0.44014, 0.51373, 0.47401],\n",
              "       [0.5516 , 0.42741, 0.52493, 0.47048],\n",
              "       [0.602  , 0.4316 , 0.58076, 0.49519],\n",
              "       [0.56048, 0.61054, 0.52755, 0.56602]])"
            ]
          },
          "metadata": {},
          "execution_count": 223
        }
      ]
    },
    {
      "cell_type": "code",
      "source": [
        "names.append('ConvLSTM')"
      ],
      "metadata": {
        "id": "51EV61D6wth4"
      },
      "execution_count": 228,
      "outputs": []
    },
    {
      "cell_type": "code",
      "source": [
        "names"
      ],
      "metadata": {
        "colab": {
          "base_uri": "https://localhost:8080/"
        },
        "id": "2o7axoeGxj6h",
        "outputId": "37ced3e4-fa9f-40c6-9280-cdcf421d4efd"
      },
      "execution_count": 238,
      "outputs": [
        {
          "output_type": "execute_result",
          "data": {
            "text/plain": [
              "['LogisticRegression',\n",
              " 'XGBClassifier',\n",
              " 'SVC',\n",
              " 'RandomForestClassifier',\n",
              " 'AdaBoostClassifier',\n",
              " 'ConvolutionalNN',\n",
              " 'ConvLSTM']"
            ]
          },
          "metadata": {},
          "execution_count": 238
        }
      ]
    },
    {
      "cell_type": "code",
      "source": [
        "names = [\"LR\",'XGB','SVC',\"RF\",'Ada','CNN','ConvLSTM']"
      ],
      "metadata": {
        "id": "h3n83iB1xlXH"
      },
      "execution_count": 241,
      "outputs": []
    },
    {
      "cell_type": "code",
      "source": [
        "H[\"Model\"] = names"
      ],
      "metadata": {
        "id": "TybcyrEpxL95"
      },
      "execution_count": 242,
      "outputs": []
    },
    {
      "cell_type": "code",
      "source": [
        "H.index = names"
      ],
      "metadata": {
        "id": "HuWw7Drmxdne"
      },
      "execution_count": 243,
      "outputs": []
    },
    {
      "cell_type": "code",
      "source": [
        "H.plot(marker='*')\n",
        "plt.xticks(rotation=0)\n",
        "plt.savefig('/content/drive/MyDrive/work 19 gender/overal.png',bbox_inches='tight')"
      ],
      "metadata": {
        "colab": {
          "base_uri": "https://localhost:8080/",
          "height": 518
        },
        "id": "YFKRQIxMxWKu",
        "outputId": "13871d26-a13f-4ace-9ea8-6af943b720a4"
      },
      "execution_count": 259,
      "outputs": [
        {
          "output_type": "display_data",
          "data": {
            "text/plain": [
              "<Figure size 1000x600 with 1 Axes>"
            ],
            "image/png": "[encoded data removed]"
          },
          "metadata": {}
        }
      ]
    },
    {
      "cell_type": "code",
      "source": [
        "H = pd.DataFrame(res2,columns=['Accuracy','Recall','Precision','f1 score'])"
      ],
      "metadata": {
        "id": "wd3RyFFJw76y"
      },
      "execution_count": 231,
      "outputs": []
    },
    {
      "cell_type": "code",
      "source": [
        "H.to_csv('/content/drive/MyDrive/work 19 gender/results.csv')"
      ],
      "metadata": {
        "id": "70r9s__61d3t"
      },
      "execution_count": 255,
      "outputs": []
    },
    {
      "cell_type": "code",
      "source": [
        "# plt.figure(figsize=(12,8))\n",
        "sns.catplot(\n",
        "    data=H, x=\"Kind\", y=\"Accuracy\", hue=\"Model\",\n",
        "    # palette={\"male\": \"g\", \"female\": \"m\"},\n",
        "    # markers=[\"^\", \"o\"], linestyles=[\"-\", \"--\"],\n",
        "    kind=\"point\"\n",
        ")\n",
        "plt.savefig('/content/drive/MyDrive/work 19 gender/Accuracy.png',bbox_inches='tight')"
      ],
      "metadata": {
        "colab": {
          "base_uri": "https://localhost:8080/",
          "height": 501
        },
        "id": "_yE_a7961Dyh",
        "outputId": "c60b5eba-23a9-482f-8b5d-d72aa1fb064e"
      },
      "execution_count": 253,
      "outputs": [
        {
          "output_type": "display_data",
          "data": {
            "text/plain": [
              "<Figure size 634.375x500 with 1 Axes>"
            ],
            "image/png": "[encoded data removed]"
          },
          "metadata": {}
        }
      ]
    },
    {
      "cell_type": "code",
      "source": [
        "\n",
        "sns.catplot(\n",
        "    data=H, x=\"Kind\", y=\"f1 score\", hue=\"Model\",\n",
        "    # palette={\"male\": \"g\", \"female\": \"m\"},\n",
        "    # markers=[\"^\", \"o\"], linestyles=[\"-\", \"--\"],\n",
        "    kind=\"point\"\n",
        ")\n",
        "plt.savefig('/content/drive/MyDrive/work 19 gender/f1Score.png',bbox_inches='tight')"
      ],
      "metadata": {
        "colab": {
          "base_uri": "https://localhost:8080/",
          "height": 501
        },
        "id": "wcP74T3JwrsX",
        "outputId": "a8425efc-298a-4e8e-aaf1-9465840b2840"
      },
      "execution_count": 254,
      "outputs": [
        {
          "output_type": "display_data",
          "data": {
            "text/plain": [
              "<Figure size 634.375x500 with 1 Axes>"
            ],
            "image/png": "[encoded data removed]"
          },
          "metadata": {}
        }
      ]
    },
    {
      "cell_type": "code",
      "source": [
        "H[\"Kind\"] = ['ML','ML','ML','ML','ML',\"NN\",\"NN\"]"
      ],
      "metadata": {
        "id": "Cnk2LAt7nJEl"
      },
      "execution_count": 248,
      "outputs": []
    },
    {
      "cell_type": "code",
      "source": [
        "sns.catplot(\n",
        "    data=H, x=\"Recall\", y=\"Precision\", hue=\"model kind\",\n",
        "    kind=\"violin\", split=True,\n",
        ")"
      ],
      "metadata": {
        "colab": {
          "base_uri": "https://localhost:8080/",
          "height": 518
        },
        "id": "fMUsp_gY0Fpc",
        "outputId": "d05b90c3-1929-4554-a97a-6f6d6a44767f"
      },
      "execution_count": 247,
      "outputs": [
        {
          "output_type": "execute_result",
          "data": {
            "text/plain": [
              "<seaborn.axisgrid.FacetGrid at 0x7fd46c58b2e0>"
            ]
          },
          "metadata": {},
          "execution_count": 247
        },
        {
          "output_type": "display_data",
          "data": {
            "text/plain": [
              "<Figure size 604.597x500 with 1 Axes>"
            ],
            "image/png": "[encoded data removed]"
          },
          "metadata": {}
        }
      ]
    },
    {
      "cell_type": "code",
      "source": [
        "\n",
        "sns.catplot(data=data, x=\"length\", y=\"class\", kind=\"swarm\")"
      ],
      "metadata": {
        "colab": {
          "base_uri": "https://localhost:8080/",
          "height": 989
        },
        "id": "sqOM26hMl5VS",
        "outputId": "2d3e5fd4-c347-48e2-e028-a70f7d64dcf1"
      },
      "execution_count": 175,
      "outputs": [
        {
          "output_type": "stream",
          "name": "stderr",
          "text": [
            "/usr/local/lib/python3.8/dist-packages/seaborn/categorical.py:1296: UserWarning: 40.0% of the points cannot be placed; you may want to decrease the size of the markers or use stripplot.\n",
            "  warnings.warn(msg, UserWarning)\n",
            "/usr/local/lib/python3.8/dist-packages/seaborn/categorical.py:1296: UserWarning: 93.6% of the points cannot be placed; you may want to decrease the size of the markers or use stripplot.\n",
            "  warnings.warn(msg, UserWarning)\n",
            "/usr/local/lib/python3.8/dist-packages/seaborn/categorical.py:1296: UserWarning: 98.0% of the points cannot be placed; you may want to decrease the size of the markers or use stripplot.\n",
            "  warnings.warn(msg, UserWarning)\n",
            "/usr/local/lib/python3.8/dist-packages/seaborn/categorical.py:1296: UserWarning: 99.0% of the points cannot be placed; you may want to decrease the size of the markers or use stripplot.\n",
            "  warnings.warn(msg, UserWarning)\n",
            "/usr/local/lib/python3.8/dist-packages/seaborn/categorical.py:1296: UserWarning: 99.2% of the points cannot be placed; you may want to decrease the size of the markers or use stripplot.\n",
            "  warnings.warn(msg, UserWarning)\n",
            "/usr/local/lib/python3.8/dist-packages/seaborn/categorical.py:1296: UserWarning: 99.4% of the points cannot be placed; you may want to decrease the size of the markers or use stripplot.\n",
            "  warnings.warn(msg, UserWarning)\n",
            "/usr/local/lib/python3.8/dist-packages/seaborn/categorical.py:1296: UserWarning: 99.3% of the points cannot be placed; you may want to decrease the size of the markers or use stripplot.\n",
            "  warnings.warn(msg, UserWarning)\n",
            "/usr/local/lib/python3.8/dist-packages/seaborn/categorical.py:1296: UserWarning: 99.1% of the points cannot be placed; you may want to decrease the size of the markers or use stripplot.\n",
            "  warnings.warn(msg, UserWarning)\n",
            "/usr/local/lib/python3.8/dist-packages/seaborn/categorical.py:1296: UserWarning: 98.5% of the points cannot be placed; you may want to decrease the size of the markers or use stripplot.\n",
            "  warnings.warn(msg, UserWarning)\n",
            "/usr/local/lib/python3.8/dist-packages/seaborn/categorical.py:1296: UserWarning: 97.5% of the points cannot be placed; you may want to decrease the size of the markers or use stripplot.\n",
            "  warnings.warn(msg, UserWarning)\n",
            "/usr/local/lib/python3.8/dist-packages/seaborn/categorical.py:1296: UserWarning: 94.7% of the points cannot be placed; you may want to decrease the size of the markers or use stripplot.\n",
            "  warnings.warn(msg, UserWarning)\n",
            "/usr/local/lib/python3.8/dist-packages/seaborn/categorical.py:1296: UserWarning: 86.7% of the points cannot be placed; you may want to decrease the size of the markers or use stripplot.\n",
            "  warnings.warn(msg, UserWarning)\n",
            "/usr/local/lib/python3.8/dist-packages/seaborn/categorical.py:1296: UserWarning: 80.0% of the points cannot be placed; you may want to decrease the size of the markers or use stripplot.\n",
            "  warnings.warn(msg, UserWarning)\n"
          ]
        },
        {
          "output_type": "execute_result",
          "data": {
            "text/plain": [
              "<seaborn.axisgrid.FacetGrid at 0x7fd476c988e0>"
            ]
          },
          "metadata": {},
          "execution_count": 175
        },
        {
          "output_type": "display_data",
          "data": {
            "text/plain": [
              "<Figure size 500x500 with 1 Axes>"
            ],
            "image/png": "[encoded data removed]"
          },
          "metadata": {}
        }
      ]
    },
    {
      "cell_type": "code",
      "source": [],
      "metadata": {
        "id": "5uTtIdb6oRTr"
      },
      "execution_count": null,
      "outputs": []
    },
    {
      "cell_type": "code",
      "source": [
        "sns.catplot(data=data, x=\"length\", y=\"gender\", kind=\"box\")"
      ],
      "metadata": {
        "colab": {
          "base_uri": "https://localhost:8080/",
          "height": 518
        },
        "id": "TeSGVcFanSQr",
        "outputId": "0741f6a0-a543-4edd-a001-6a0e50ccbea3"
      },
      "execution_count": 178,
      "outputs": [
        {
          "output_type": "execute_result",
          "data": {
            "text/plain": [
              "<seaborn.axisgrid.FacetGrid at 0x7fd46ddc7a30>"
            ]
          },
          "metadata": {},
          "execution_count": 178
        },
        {
          "output_type": "display_data",
          "data": {
            "text/plain": [
              "<Figure size 500x500 with 1 Axes>"
            ],
            "image/png": "[encoded data removed]"
          },
          "metadata": {}
        }
      ]
    },
    {
      "cell_type": "code",
      "source": [
        "sns.displot(data, x=\"length\", hue=\"gender\", kind=\"ecdf\")"
      ],
      "metadata": {
        "colab": {
          "base_uri": "https://localhost:8080/",
          "height": 518
        },
        "id": "_7b6VMeUnkq_",
        "outputId": "ada231b6-d39a-430c-d808-2308ffea345f"
      },
      "execution_count": 179,
      "outputs": [
        {
          "output_type": "execute_result",
          "data": {
            "text/plain": [
              "<seaborn.axisgrid.FacetGrid at 0x7fd477d364f0>"
            ]
          },
          "metadata": {},
          "execution_count": 179
        },
        {
          "output_type": "display_data",
          "data": {
            "text/plain": [
              "<Figure size 607.875x500 with 1 Axes>"
            ],
            "image/png": "[encoded data removed]"
          },
          "metadata": {}
        }
      ]
    },
    {
      "cell_type": "code",
      "source": [
        "df.columns"
      ],
      "metadata": {
        "colab": {
          "base_uri": "https://localhost:8080/"
        },
        "id": "HD6kI3CZtXgV",
        "outputId": "044cdee8-7090-40ef-ed5b-0b7059762c6b"
      },
      "execution_count": 195,
      "outputs": [
        {
          "output_type": "execute_result",
          "data": {
            "text/plain": [
              "Index(['text', 'gender', 'gender:confidence', '_golden', 'fav_number',\n",
              "       'retweet_count', 'user_timezone'],\n",
              "      dtype='object')"
            ]
          },
          "metadata": {},
          "execution_count": 195
        }
      ]
    },
    {
      "cell_type": "code",
      "source": [
        "df['fav_number'].max()"
      ],
      "metadata": {
        "colab": {
          "base_uri": "https://localhost:8080/"
        },
        "id": "jh7UYpJNt-dL",
        "outputId": "93f139eb-b5bc-4afa-e75f-7265555c0f96"
      },
      "execution_count": 201,
      "outputs": [
        {
          "output_type": "execute_result",
          "data": {
            "text/plain": [
              "341621"
            ]
          },
          "metadata": {},
          "execution_count": 201
        }
      ]
    },
    {
      "cell_type": "code",
      "source": [
        "M"
      ],
      "metadata": {
        "colab": {
          "base_uri": "https://localhost:8080/",
          "height": 423
        },
        "id": "p4OJj47O4p2D",
        "outputId": "01c7ec24-dd09-4c78-e0b7-43918a297545"
      },
      "execution_count": 293,
      "outputs": [
        {
          "output_type": "execute_result",
          "data": {
            "text/plain": [
              "          Male    Female\n",
              "0     2.843491  3.163452\n",
              "1     6.710524  3.967448\n",
              "2     1.527216  1.885571\n",
              "3     2.068612  0.778974\n",
              "4     1.562950  0.781334\n",
              "...        ...       ...\n",
              "3227  1.644538  0.980494\n",
              "3228  4.314275  1.811582\n",
              "3229  0.000000  1.969077\n",
              "3230  2.512182  0.462577\n",
              "3231  1.808441  0.397468\n",
              "\n",
              "[3232 rows x 2 columns]"
            ],
            "text/html": [
              "\n",
              "  <div id=\"df-447a6153-133c-4d8a-8d1c-87f641ce2274\">\n",
              "    <div class=\"colab-df-container\">\n",
              "      <div>\n",
              "<style scoped>\n",
              "    .dataframe tbody tr th:only-of-type {\n",
              "        vertical-align: middle;\n",
              "    }\n",
              "\n",
              "    .dataframe tbody tr th {\n",
              "        vertical-align: top;\n",
              "    }\n",
              "\n",
              "    .dataframe thead th {\n",
              "        text-align: right;\n",
              "    }\n",
              "</style>\n",
              "<table border=\"1\" class=\"dataframe\">\n",
              "  <thead>\n",
              "    <tr style=\"text-align: right;\">\n",
              "      <th></th>\n",
              "      <th>Male</th>\n",
              "      <th>Female</th>\n",
              "    </tr>\n",
              "  </thead>\n",
              "  <tbody>\n",
              "    <tr>\n",
              "      <th>0</th>\n",
              "      <td>2.843491</td>\n",
              "      <td>3.163452</td>\n",
              "    </tr>\n",
              "    <tr>\n",
              "      <th>1</th>\n",
              "      <td>6.710524</td>\n",
              "      <td>3.967448</td>\n",
              "    </tr>\n",
              "    <tr>\n",
              "      <th>2</th>\n",
              "      <td>1.527216</td>\n",
              "      <td>1.885571</td>\n",
              "    </tr>\n",
              "    <tr>\n",
              "      <th>3</th>\n",
              "      <td>2.068612</td>\n",
              "      <td>0.778974</td>\n",
              "    </tr>\n",
              "    <tr>\n",
              "      <th>4</th>\n",
              "      <td>1.562950</td>\n",
              "      <td>0.781334</td>\n",
              "    </tr>\n",
              "    <tr>\n",
              "      <th>...</th>\n",
              "      <td>...</td>\n",
              "      <td>...</td>\n",
              "    </tr>\n",
              "    <tr>\n",
              "      <th>3227</th>\n",
              "      <td>1.644538</td>\n",
              "      <td>0.980494</td>\n",
              "    </tr>\n",
              "    <tr>\n",
              "      <th>3228</th>\n",
              "      <td>4.314275</td>\n",
              "      <td>1.811582</td>\n",
              "    </tr>\n",
              "    <tr>\n",
              "      <th>3229</th>\n",
              "      <td>0.000000</td>\n",
              "      <td>1.969077</td>\n",
              "    </tr>\n",
              "    <tr>\n",
              "      <th>3230</th>\n",
              "      <td>2.512182</td>\n",
              "      <td>0.462577</td>\n",
              "    </tr>\n",
              "    <tr>\n",
              "      <th>3231</th>\n",
              "      <td>1.808441</td>\n",
              "      <td>0.397468</td>\n",
              "    </tr>\n",
              "  </tbody>\n",
              "</table>\n",
              "<p>3232 rows × 2 columns</p>\n",
              "</div>\n",
              "      <button class=\"colab-df-convert\" onclick=\"convertToInteractive('df-447a6153-133c-4d8a-8d1c-87f641ce2274')\"\n",
              "              title=\"Convert this dataframe to an interactive table.\"\n",
              "              style=\"display:none;\">\n",
              "        \n",
              "  <svg xmlns=\"http://www.w3.org/2000/svg\" height=\"24px\"viewBox=\"0 0 24 24\"\n",
              "       width=\"24px\">\n",
              "    <path d=\"M0 0h24v24H0V0z\" fill=\"none\"/>\n",
              "    <path d=\"M18.56 5.44l.94 2.06.94-2.06 2.06-.94-2.06-.94-.94-2.06-.94 2.06-2.06.94zm-11 1L8.5 8.5l.94-2.06 2.06-.94-2.06-.94L8.5 2.5l-.94 2.06-2.06.94zm10 10l.94 2.06.94-2.06 2.06-.94-2.06-.94-.94-2.06-.94 2.06-2.06.94z\"/><path d=\"M17.41 7.96l-1.37-1.37c-.4-.4-.92-.59-1.43-.59-.52 0-1.04.2-1.43.59L10.3 9.45l-7.72 7.72c-.78.78-.78 2.05 0 2.83L4 21.41c.39.39.9.59 1.41.59.51 0 1.02-.2 1.41-.59l7.78-7.78 2.81-2.81c.8-.78.8-2.07 0-2.86zM5.41 20L4 18.59l7.72-7.72 1.47 1.35L5.41 20z\"/>\n",
              "  </svg>\n",
              "      </button>\n",
              "      \n",
              "  <style>\n",
              "    .colab-df-container {\n",
              "      display:flex;\n",
              "      flex-wrap:wrap;\n",
              "      gap: 12px;\n",
              "    }\n",
              "\n",
              "    .colab-df-convert {\n",
              "      background-color: #E8F0FE;\n",
              "      border: none;\n",
              "      border-radius: 50%;\n",
              "      cursor: pointer;\n",
              "      display: none;\n",
              "      fill: #1967D2;\n",
              "      height: 32px;\n",
              "      padding: 0 0 0 0;\n",
              "      width: 32px;\n",
              "    }\n",
              "\n",
              "    .colab-df-convert:hover {\n",
              "      background-color: #E2EBFA;\n",
              "      box-shadow: 0px 1px 2px rgba(60, 64, 67, 0.3), 0px 1px 3px 1px rgba(60, 64, 67, 0.15);\n",
              "      fill: #174EA6;\n",
              "    }\n",
              "\n",
              "    [theme=dark] .colab-df-convert {\n",
              "      background-color: #3B4455;\n",
              "      fill: #D2E3FC;\n",
              "    }\n",
              "\n",
              "    [theme=dark] .colab-df-convert:hover {\n",
              "      background-color: #434B5C;\n",
              "      box-shadow: 0px 1px 3px 1px rgba(0, 0, 0, 0.15);\n",
              "      filter: drop-shadow(0px 1px 2px rgba(0, 0, 0, 0.3));\n",
              "      fill: #FFFFFF;\n",
              "    }\n",
              "  </style>\n",
              "\n",
              "      <script>\n",
              "        const buttonEl =\n",
              "          document.querySelector('#df-447a6153-133c-4d8a-8d1c-87f641ce2274 button.colab-df-convert');\n",
              "        buttonEl.style.display =\n",
              "          google.colab.kernel.accessAllowed ? 'block' : 'none';\n",
              "\n",
              "        async function convertToInteractive(key) {\n",
              "          const element = document.querySelector('#df-447a6153-133c-4d8a-8d1c-87f641ce2274');\n",
              "          const dataTable =\n",
              "            await google.colab.kernel.invokeFunction('convertToInteractive',\n",
              "                                                     [key], {});\n",
              "          if (!dataTable) return;\n",
              "\n",
              "          const docLinkHtml = 'Like what you see? Visit the ' +\n",
              "            '<a target=\"_blank\" href=https://colab.research.google.com/notebooks/data_table.ipynb>data table notebook</a>'\n",
              "            + ' to learn more about interactive tables.';\n",
              "          element.innerHTML = '';\n",
              "          dataTable['output_type'] = 'display_data';\n",
              "          await google.colab.output.renderOutput(dataTable, element);\n",
              "          const docLink = document.createElement('div');\n",
              "          docLink.innerHTML = docLinkHtml;\n",
              "          element.appendChild(docLink);\n",
              "        }\n",
              "      </script>\n",
              "    </div>\n",
              "  </div>\n",
              "  "
            ]
          },
          "metadata": {},
          "execution_count": 293
        }
      ]
    },
    {
      "cell_type": "code",
      "source": [
        "M.to_csv('/content/drive/MyDrive/work 19 gender/results/m.csv')"
      ],
      "metadata": {
        "id": "VNhrNH3v42eW"
      },
      "execution_count": 345,
      "outputs": []
    },
    {
      "cell_type": "code",
      "source": [
        "sns.displot(M, x=\"Male\", y=\"Female\")\n",
        "plt.xlim(0,30)\n",
        "plt.ylim(0,30)\n"
      ],
      "metadata": {
        "colab": {
          "base_uri": "https://localhost:8080/",
          "height": 523
        },
        "id": "HLjGYJfptbIY",
        "outputId": "b176a6a0-0f2b-4cac-c3a2-78f8d853ffc1"
      },
      "execution_count": 295,
      "outputs": [
        {
          "output_type": "execute_result",
          "data": {
            "text/plain": [
              "(0.0, 30.0)"
            ]
          },
          "metadata": {},
          "execution_count": 295
        },
        {
          "output_type": "display_data",
          "data": {
            "text/plain": [
              "<Figure size 500x500 with 1 Axes>"
            ],
            "image/png": "[encoded data removed]"
          },
          "metadata": {}
        }
      ]
    },
    {
      "cell_type": "code",
      "source": [
        "KK = {i:j for j,i in K.items()}\n",
        "KK"
      ],
      "metadata": {
        "id": "SGAo5KKQtmSp"
      },
      "execution_count": null,
      "outputs": []
    },
    {
      "cell_type": "code",
      "source": [
        "M['Me'] = M['Male'] - M['Female']\n",
        "M['Fe'] = M['Female'] - M['Male']\n"
      ],
      "metadata": {
        "id": "H9Z9HVQD505q"
      },
      "execution_count": 311,
      "outputs": []
    },
    {
      "cell_type": "code",
      "source": [
        "LL = M.sort_values(by='Female',ascending=False)[0:20].index"
      ],
      "metadata": {
        "id": "vUkv567a6A1D"
      },
      "execution_count": 325,
      "outputs": []
    },
    {
      "cell_type": "code",
      "source": [
        "# M.sort_values(by='Me',ascending=False)[0:20]['Male']"
      ],
      "metadata": {
        "id": "VsYMfkKI6Psj"
      },
      "execution_count": 326,
      "outputs": []
    },
    {
      "cell_type": "code",
      "source": [
        "# malelike = []\n",
        "# male\n",
        "for l in LL:\n",
        "  print(KK[l])"
      ],
      "metadata": {
        "colab": {
          "base_uri": "https://localhost:8080/"
        },
        "id": "peZZCCE46S8f",
        "outputId": "cc213855-1666-434f-f35f-ad60de436759"
      },
      "execution_count": 328,
      "outputs": [
        {
          "output_type": "stream",
          "name": "stdout",
          "text": [
            "like\n",
            "get\n",
            "love\n",
            "one\n",
            "day\n",
            "time\n",
            "best\n",
            "people\n",
            "got\n",
            "know\n",
            "want\n",
            "still\n",
            "good\n",
            "amp\n",
            "back\n",
            "cant\n",
            "lol\n",
            "need\n",
            "new\n",
            "ive\n"
          ]
        }
      ]
    },
    {
      "cell_type": "code",
      "source": [
        "feMalelike = []\n",
        "feMalecount = []\n",
        "LL = M.sort_values(by='Female',ascending=False)[0:20].index\n",
        "for l in LL:\n",
        "  feMalelike.append(KK[l])\n",
        "  feMalecount.append(M.loc[l].Male)\n",
        "  print(KK[l],M.loc[l].Female)"
      ],
      "metadata": {
        "colab": {
          "base_uri": "https://localhost:8080/"
        },
        "id": "4jRnXrhV7azs",
        "outputId": "16719f0f-84b9-43a8-e4bb-fe439372a98b"
      },
      "execution_count": 335,
      "outputs": [
        {
          "output_type": "stream",
          "name": "stdout",
          "text": [
            "like 79.5867543220171\n",
            "get 70.90930832524968\n",
            "love 70.73396493393548\n",
            "one 66.63826059475359\n",
            "day 61.563479158610804\n",
            "time 54.42925291314431\n",
            "best 50.55071085618402\n",
            "people 48.97697888880024\n",
            "got 45.821802613726774\n",
            "know 45.411521185421634\n",
            "want 43.855487395766566\n",
            "still 42.03508838910812\n",
            "good 41.864480956360495\n",
            "amp 41.70461276378193\n",
            "back 41.681346497693255\n",
            "cant 39.71900364668805\n",
            "lol 38.13710752301083\n",
            "need 37.74177060369223\n",
            "new 37.56476894722457\n",
            "ive 36.782945850692066\n"
          ]
        }
      ]
    },
    {
      "cell_type": "code",
      "source": [
        "Malelike = []\n",
        "Malecount = []\n",
        "LL = M.sort_values(by='Male',ascending=False)[0:20].index\n",
        "for l in LL:\n",
        "  Malelike.append(KK[l])\n",
        "  Malecount.append(M.loc[l].Male)\n",
        "  print(KK[l],M.loc[l].Male)"
      ],
      "metadata": {
        "colab": {
          "base_uri": "https://localhost:8080/"
        },
        "id": "_4xSv4PN65Oh",
        "outputId": "b1f573ff-d2f7-416d-97cf-85e15eba752e"
      },
      "execution_count": 336,
      "outputs": [
        {
          "output_type": "stream",
          "name": "stdout",
          "text": [
            "like 61.80628826552056\n",
            "get 60.6386378968268\n",
            "one 50.03313162154249\n",
            "time 46.60925846153572\n",
            "new 42.964783769544766\n",
            "good 40.23138379629056\n",
            "love 39.88643031692428\n",
            "know 39.343935540401205\n",
            "see 38.77331556749244\n",
            "think 38.70318389058913\n",
            "people 37.53317862915644\n",
            "got 37.3815031380313\n",
            "back 36.02669627245361\n",
            "best 35.36027438848006\n",
            "game 34.08083506029176\n",
            "day 32.36413804821266\n",
            "amp 31.69577620229784\n",
            "well 31.545746651542053\n",
            "lol 31.2411915619199\n",
            "thats 30.882852807081427\n"
          ]
        }
      ]
    },
    {
      "cell_type": "code",
      "source": [
        "LK = pd.DataFrame()\n",
        "LK['Malelike'] = Malelike\n",
        "LK['Malecount'] = Malecount\n",
        "LK['feMalelike'] = feMalelike\n",
        "LK['feMalecount'] = feMalecount\n",
        "\n",
        "# Malelike\n",
        "# Malecount\n",
        "# feMalelike\n",
        "# feMalecount/"
      ],
      "metadata": {
        "id": "pR0JxhYt7gXS"
      },
      "execution_count": 337,
      "outputs": []
    },
    {
      "cell_type": "code",
      "source": [
        "LK.to_csv('/content/drive/MyDrive/work 19 gender/results/LK.csv')"
      ],
      "metadata": {
        "id": "2KUfUzY171DK"
      },
      "execution_count": 338,
      "outputs": []
    },
    {
      "cell_type": "code",
      "source": [
        "ljk = [i for i,j in KK.items()]"
      ],
      "metadata": {
        "id": "UH2icWeI8BDn"
      },
      "execution_count": 339,
      "outputs": []
    },
    {
      "cell_type": "code",
      "source": [
        "M['Word'] = ljk"
      ],
      "metadata": {
        "id": "cX6xp9Bm8Fpv"
      },
      "execution_count": 343,
      "outputs": []
    },
    {
      "cell_type": "code",
      "source": [
        "KK"
      ],
      "metadata": {
        "colab": {
          "base_uri": "https://localhost:8080/"
        },
        "id": "Edo9cANd5y90",
        "outputId": "306cd067-3995-4292-f2b0-e94baaa2d3ce"
      },
      "execution_count": 309,
      "outputs": [
        {
          "output_type": "execute_result",
          "data": {
            "text/plain": [
              "{3108: 'went',\n",
              " 2786: 'target',\n",
              " 2844: 'things',\n",
              " 631: 'course',\n",
              " 565: 'come',\n",
              " 871: 'end',\n",
              " 2636: 'spending',\n",
              " 2229: 'problem',\n",
              " 2395: 'ross',\n",
              " 1214: 'good',\n",
              " 3210: 'yeah',\n",
              " 1732: 'lots',\n",
              " 456: 'catch',\n",
              " 3206: 'xxx',\n",
              " 2376: 'right',\n",
              " 2027: 'one',\n",
              " 3124: 'whoever',\n",
              " 2271: 'puts',\n",
              " 1286: 'hand',\n",
              " 2228: 'probably',\n",
              " 288: 'bit',\n",
              " 1641: 'less',\n",
              " 2845: 'think',\n",
              " 3103: 'weird',\n",
              " 2099: 'people',\n",
              " 2338: 'relax',\n",
              " 1123: 'friendship',\n",
              " 579: 'company',\n",
              " 1230: 'gotta',\n",
              " 1558: 'kim',\n",
              " 1128: 'fuck',\n",
              " 1981: 'night',\n",
              " 1210: 'gonna',\n",
              " 1904: 'move',\n",
              " 205: 'back',\n",
              " 1379: 'home',\n",
              " 1958: 'new',\n",
              " 3223: 'york',\n",
              " 1520: 'join',\n",
              " 147: 'army',\n",
              " 1967: 'new york',\n",
              " 2938: 'tried',\n",
              " 3102: 'weight',\n",
              " 3174: 'world',\n",
              " 2972: 'two',\n",
              " 1289: 'hands',\n",
              " 1300: 'happy',\n",
              " 286: 'birthday',\n",
              " 512: 'childhood',\n",
              " 245: 'beauty',\n",
              " 2577: 'smith',\n",
              " 2822: 'thank',\n",
              " 2799: 'teaching',\n",
              " 1302: 'happy birthday',\n",
              " 69: 'aint',\n",
              " 1875: 'missed',\n",
              " 240: 'beat',\n",
              " 2396: 'roster',\n",
              " 414: 'came',\n",
              " 2019: 'often',\n",
              " 1911: 'much',\n",
              " 680: 'damage',\n",
              " 2286: 'quote',\n",
              " 2211: 'pretty',\n",
              " 2434: 'scary',\n",
              " 1970: 'next',\n",
              " 804: 'door',\n",
              " 1190: 'glad',\n",
              " 2871: 'time',\n",
              " 87: 'also',\n",
              " 928: 'everything',\n",
              " 1480: 'interview',\n",
              " 2958: 'turning',\n",
              " 1053: 'first',\n",
              " 698: 'day',\n",
              " 462: 'causes',\n",
              " 123: 'anxiety',\n",
              " 1054: 'first day',\n",
              " 1416: 'hugs',\n",
              " 2882: 'tiny',\n",
              " 1740: 'love',\n",
              " 618: 'corner',\n",
              " 1865: 'mine',\n",
              " 692: 'date',\n",
              " 2614: 'sound',\n",
              " 2884: 'tips',\n",
              " 1771: 'make',\n",
              " 272: 'better',\n",
              " 2726: 'study',\n",
              " 2529: 'shows',\n",
              " 852: 'eating',\n",
              " 1322: 'healthy',\n",
              " 2581: 'snack',\n",
              " 10: '1st',\n",
              " 1343: 'helps',\n",
              " 1456: 'impudence',\n",
              " 2288: 'rabiu',\n",
              " 1581: 'kwakwanso',\n",
              " 1133: 'fulani',\n",
              " 367: 'brothers',\n",
              " 1026: 'ffk',\n",
              " 3200: 'written',\n",
              " 1023: 'femi',\n",
              " 983: 'fani',\n",
              " 1537: 'kayode',\n",
              " 2310: 'read',\n",
              " 1457: 'impudence rabiu',\n",
              " 2289: 'rabiu kwakwanso',\n",
              " 1582: 'kwakwanso fulani',\n",
              " 1134: 'fulani brothers',\n",
              " 368: 'brothers ffk',\n",
              " 1027: 'ffk written',\n",
              " 3201: 'written femi',\n",
              " 1024: 'femi fani',\n",
              " 984: 'fani kayode',\n",
              " 1538: 'kayode read',\n",
              " 1458: 'impudence rabiu kwakwanso',\n",
              " 2290: 'rabiu kwakwanso fulani',\n",
              " 1583: 'kwakwanso fulani brothers',\n",
              " 1135: 'fulani brothers ffk',\n",
              " 369: 'brothers ffk written',\n",
              " 1028: 'ffk written femi',\n",
              " 3202: 'written femi fani',\n",
              " 1025: 'femi fani kayode',\n",
              " 985: 'fani kayode read',\n",
              " 1571: 'know',\n",
              " 127: 'anything',\n",
              " 1707: 'long',\n",
              " 2815: 'test',\n",
              " 2358: 'results',\n",
              " 2772: 'take',\n",
              " 1600: 'last',\n",
              " 1764: 'made',\n",
              " 2868: 'til',\n",
              " 2748: 'sun',\n",
              " 1603: 'last night',\n",
              " 900: 'essential',\n",
              " 2020: 'oil',\n",
              " 1879: 'mixed',\n",
              " 2331: 'red',\n",
              " 1120: 'friend',\n",
              " 337: 'boy',\n",
              " 3030: 'visit',\n",
              " 3165: 'work',\n",
              " 495: 'cheap',\n",
              " 1819: 'mean',\n",
              " 574: 'comment',\n",
              " 2831: 'thats',\n",
              " 487: 'character',\n",
              " 1114: 'free',\n",
              " 1979: 'nigga',\n",
              " 2800: 'team',\n",
              " 2398: 'round',\n",
              " 218: 'bam',\n",
              " 2606: 'soon',\n",
              " 2232: 'processed',\n",
              " 1824: 'meat',\n",
              " 2233: 'processed meat',\n",
              " 2332: 'red meat',\n",
              " 1751: 'loving',\n",
              " 1319: 'heal',\n",
              " 2613: 'soul',\n",
              " 2842: 'thing',\n",
              " 2761: 'swear',\n",
              " 1164: 'get',\n",
              " 1956: 'never',\n",
              " 1637: 'left',\n",
              " 256: 'behind',\n",
              " 1627: 'league',\n",
              " 1149: 'game',\n",
              " 624: 'could',\n",
              " 2151: 'play',\n",
              " 1233: 'govt',\n",
              " 2491: 'set',\n",
              " 1827: 'media',\n",
              " 3002: 'update',\n",
              " 2195: 'ppl',\n",
              " 1612: 'latest',\n",
              " 1418: 'human',\n",
              " 1727: 'loss',\n",
              " 2874: 'time time',\n",
              " 90: 'always',\n",
              " 2371: 'rich',\n",
              " 1790: 'man',\n",
              " 3154: 'women',\n",
              " 2919: 'trade',\n",
              " 3106: 'well',\n",
              " 2956: 'turn',\n",
              " 289: 'bitch',\n",
              " 681: 'damn',\n",
              " 1692: 'live',\n",
              " 1370: 'hoe',\n",
              " 1656: 'life',\n",
              " 3040: 'voteonedirection',\n",
              " 91: 'amas',\n",
              " 156: 'artist',\n",
              " 3211: 'year',\n",
              " 161: 'artist year',\n",
              " 1224: 'gospel',\n",
              " 1248: 'greed',\n",
              " 2418: 'sardar',\n",
              " 278: 'biglari',\n",
              " 2064: 'paid',\n",
              " 1859: 'million',\n",
              " 754: 'despite',\n",
              " 1737: 'lousy',\n",
              " 1140: 'fund',\n",
              " 2361: 'returns',\n",
              " 794: 'documents',\n",
              " 2008: 'obtaine',\n",
              " 1225: 'gospel greed',\n",
              " 1249: 'greed sardar',\n",
              " 2419: 'sardar biglari',\n",
              " 279: 'biglari paid',\n",
              " 2065: 'paid million',\n",
              " 1860: 'million despite',\n",
              " 755: 'despite lousy',\n",
              " 1738: 'lousy fund',\n",
              " 1141: 'fund returns',\n",
              " 2362: 'returns documents',\n",
              " 795: 'documents obtaine',\n",
              " 1226: 'gospel greed sardar',\n",
              " 1250: 'greed sardar biglari',\n",
              " 2420: 'sardar biglari paid',\n",
              " 280: 'biglari paid million',\n",
              " 2066: 'paid million despite',\n",
              " 1861: 'million despite lousy',\n",
              " 756: 'despite lousy fund',\n",
              " 1739: 'lousy fund returns',\n",
              " 1142: 'fund returns documents',\n",
              " 2363: 'returns documents obtaine',\n",
              " 1369: 'hmm',\n",
              " 1043: 'find',\n",
              " 1595: 'language',\n",
              " 2998: 'university',\n",
              " 2171: 'policy',\n",
              " 1842: 'mention',\n",
              " 2710: 'strange',\n",
              " 2902: 'topic',\n",
              " 2405: 'running',\n",
              " 2016: 'office',\n",
              " 2412: 'said',\n",
              " 1663: 'like',\n",
              " 1673: 'liking',\n",
              " 1276: 'hair',\n",
              " 1723: 'lords',\n",
              " 731: 'delay',\n",
              " 2788: 'tax',\n",
              " 651: 'credit',\n",
              " 673: 'cuts',\n",
              " 1232: 'government',\n",
              " 1453: 'impact',\n",
              " 732: 'delay tax',\n",
              " 2789: 'tax credit',\n",
              " 652: 'credit cuts',\n",
              " 733: 'delay tax credit',\n",
              " 2790: 'tax credit cuts',\n",
              " 1704: 'lol',\n",
              " 3194: 'wouldve',\n",
              " 1242: 'great',\n",
              " 1434: 'idea',\n",
              " 2856: 'three',\n",
              " 927: 'everyone',\n",
              " 2114: 'person',\n",
              " 1275: 'hahaha',\n",
              " 35: 'act',\n",
              " 2353: 'respect',\n",
              " 1207: 'golden',\n",
              " 355: 'bridge',\n",
              " 3018: 'via',\n",
              " 2311: 'reading',\n",
              " 426: 'cancer',\n",
              " 2708: 'story',\n",
              " 2847: 'thinking',\n",
              " 710: 'days',\n",
              " 1825: 'meat cancer',\n",
              " 2719: 'struggle',\n",
              " 1270: 'guy',\n",
              " 2941: 'truck',\n",
              " 1072: 'followed',\n",
              " 2980: 'unfollowed',\n",
              " 186: 'automatically',\n",
              " 501: 'checked',\n",
              " 2100: 'people followed',\n",
              " 1075: 'followed people',\n",
              " 2104: 'people unfollowed',\n",
              " 2981: 'unfollowed automatically',\n",
              " 187: 'automatically checked',\n",
              " 2101: 'people followed people',\n",
              " 1076: 'followed people unfollowed',\n",
              " 2105: 'people unfollowed automatically',\n",
              " 2982: 'unfollowed automatically checked',\n",
              " 1182: 'girl',\n",
              " 1947: 'needs',\n",
              " 2549: 'sit',\n",
              " 2022: 'old',\n",
              " 2838: 'theyd',\n",
              " 827: 'drop',\n",
              " 2023: 'old days',\n",
              " 1539: 'keep',\n",
              " 1198: 'goals',\n",
              " 1125: 'front',\n",
              " 2898: 'tony',\n",
              " 497: 'check',\n",
              " 2053: 'original',\n",
              " 153: 'art',\n",
              " 2437: 'school',\n",
              " 2223: 'print',\n",
              " 2187: 'poster',\n",
              " 3056: 'wall',\n",
              " 3007: 'usa',\n",
              " 2693: 'still',\n",
              " 2853: 'though',\n",
              " 431: 'cant',\n",
              " 2887: 'title',\n",
              " 195: 'away',\n",
              " 1101: 'forgot',\n",
              " 148: 'around',\n",
              " 2076: 'parking',\n",
              " 1729: 'lot',\n",
              " 1870: 'minutes',\n",
              " 2316: 'realize',\n",
              " 3203: 'wrong',\n",
              " 102: 'amp',\n",
              " 2313: 'real',\n",
              " 1908: 'movie',\n",
              " 2550: 'site',\n",
              " 1588: 'ladies',\n",
              " 1813: 'may',\n",
              " 3098: 'week',\n",
              " 1607: 'last week',\n",
              " 3083: 'watching',\n",
              " 893: 'episode',\n",
              " 979: 'family',\n",
              " 3063: 'want',\n",
              " 555: 'coffee',\n",
              " 2787: 'taste',\n",
              " 2852: 'tho',\n",
              " 64: 'ago',\n",
              " 171: 'asked',\n",
              " 2892: 'told',\n",
              " 227: 'basically',\n",
              " 2618: 'south',\n",
              " 56: 'africa',\n",
              " 1976: 'nice',\n",
              " 490: 'charged',\n",
              " 1227: 'got',\n",
              " 653: 'credits',\n",
              " 1372: 'hold',\n",
              " 2280: 'quick',\n",
              " 826: 'driving',\n",
              " 1703: 'log',\n",
              " 2601: 'sometimes',\n",
              " 3011: 'using',\n",
              " 2989: 'uni',\n",
              " 2767: 'system',\n",
              " 532: 'classes',\n",
              " 275: 'big',\n",
              " 1310: 'hated',\n",
              " 2750: 'super',\n",
              " 938: 'excited',\n",
              " 1116: 'french',\n",
              " 1643: 'lessons',\n",
              " 2971: 'twitter',\n",
              " 1702: 'locked',\n",
              " 2283: 'quit',\n",
              " 3199: 'writing',\n",
              " 802: 'done',\n",
              " 1941: 'need',\n",
              " 3099: 'weekend',\n",
              " 1590: 'lady',\n",
              " 1165: 'get away',\n",
              " 2725: 'studio',\n",
              " 2779: 'talk',\n",
              " 345: 'brady',\n",
              " 313: 'body',\n",
              " 413: 'cam',\n",
              " 1625: 'leaders',\n",
              " 2718: 'strong',\n",
              " 3047: 'wake',\n",
              " 1407: 'hours',\n",
              " 1644: 'let',\n",
              " 146: 'arm',\n",
              " 974: 'fall',\n",
              " 1013: 'feeling',\n",
              " 365: 'broken',\n",
              " 2596: 'someone',\n",
              " 1122: 'friends',\n",
              " 1014: 'feelings',\n",
              " 2542: 'since',\n",
              " 3221: 'yesterday',\n",
              " 1836: 'memories',\n",
              " 266: 'best',\n",
              " 75: 'album',\n",
              " 1504: 'jack',\n",
              " 2210: 'pressure',\n",
              " 3135: 'wind',\n",
              " 678: 'daily',\n",
              " 3105: 'welcome',\n",
              " 546: 'club',\n",
              " 2674: 'state',\n",
              " 875: 'ends',\n",
              " 1829: 'meet',\n",
              " 1443: 'illinois',\n",
              " 3150: 'without',\n",
              " 375: 'budget',\n",
              " 2035: 'one state',\n",
              " 2675: 'state struggle',\n",
              " 2720: 'struggle make',\n",
              " 1775: 'make ends',\n",
              " 876: 'ends meet',\n",
              " 1831: 'meet illinois',\n",
              " 1444: 'illinois without',\n",
              " 3151: 'without budget',\n",
              " 2036: 'one state struggle',\n",
              " 2676: 'state struggle make',\n",
              " 2721: 'struggle make ends',\n",
              " 1776: 'make ends meet',\n",
              " 877: 'ends meet illinois',\n",
              " 1832: 'meet illinois without',\n",
              " 1445: 'illinois without budget',\n",
              " 941: 'exclusive',\n",
              " 2446: 'scott',\n",
              " 1174: 'gets',\n",
              " 1580: 'kris',\n",
              " 1552: 'kids',\n",
              " 1578: 'kourtney',\n",
              " 1535: 'kardashian',\n",
              " 2445: 'scot',\n",
              " 1579: 'kourtney kardashian',\n",
              " 530: 'city',\n",
              " 551: 'coast',\n",
              " 2643: 'spooky',\n",
              " 3085: 'wave',\n",
              " 2545: 'single',\n",
              " 0: '000',\n",
              " 2473: 'semester',\n",
              " 904: 'even',\n",
              " 2274: 'quality',\n",
              " 2073: 'paper',\n",
              " 615: 'copy',\n",
              " 1069: 'follow',\n",
              " 85: 'along',\n",
              " 1038: 'films',\n",
              " 2894: 'tomorrow',\n",
              " 1336: 'hello',\n",
              " 2827: 'thanks',\n",
              " 1089: 'following',\n",
              " 2891: 'together',\n",
              " 995: 'fav',\n",
              " 630: 'couple',\n",
              " 206: 'back together',\n",
              " 170: 'ask',\n",
              " 3117: 'whats',\n",
              " 998: 'favorite',\n",
              " 119: 'answer',\n",
              " 1126: 'frozen',\n",
              " 2315: 'reality',\n",
              " 996: 'fave',\n",
              " 760: 'devil',\n",
              " 1654: 'lie',\n",
              " 1481: 'intro',\n",
              " 559: 'college',\n",
              " 2057: 'outfit',\n",
              " 2129: 'picked',\n",
              " 1496: 'itll',\n",
              " 1018: 'fell',\n",
              " 1: '100',\n",
              " 65: 'agree',\n",
              " 2864: 'tickets',\n",
              " 3089: 'wear',\n",
              " 2217: 'pride',\n",
              " 1498: 'ive',\n",
              " 2813: 'term',\n",
              " 2516: 'short',\n",
              " 1326: 'heart',\n",
              " 1500: 'ive got',\n",
              " 1814: 'maybe',\n",
              " 1417: 'huh',\n",
              " 766: 'die',\n",
              " 2096: 'peace',\n",
              " 1211: 'gonna die',\n",
              " 727: 'defeat',\n",
              " 300: 'block',\n",
              " 3022: 'video',\n",
              " 1271: 'guys',\n",
              " 2459: 'see',\n",
              " 792: 'doctor',\n",
              " 3220: 'yes',\n",
              " 1265: 'guess',\n",
              " 1896: 'mood',\n",
              " 3212: 'year amas',\n",
              " 162: 'artist year amas',\n",
              " 2300: 'rap',\n",
              " 918: 'every',\n",
              " 2301: 'rapper',\n",
              " 2278: 'question',\n",
              " 1794: 'many',\n",
              " 2877: 'times',\n",
              " 120: 'answered',\n",
              " 1796: 'many times',\n",
              " 1113: 'freaking',\n",
              " 1717: 'looking',\n",
              " 1930: 'nasty',\n",
              " 2158: 'please',\n",
              " 948: 'explain',\n",
              " 1745: 'love much',\n",
              " 1175: 'getting',\n",
              " 2182: 'positive',\n",
              " 2583: 'snap',\n",
              " 2544: 'singing',\n",
              " 1131: 'fucking',\n",
              " 570: 'comes',\n",
              " 2063: 'page',\n",
              " 319: 'book',\n",
              " 2571: 'smell',\n",
              " 303: 'blood',\n",
              " 2723: 'student',\n",
              " 719: 'debt',\n",
              " 1799: 'market',\n",
              " 2895: 'tonight',\n",
              " 94: 'amazing',\n",
              " 1515: 'job',\n",
              " 2220: 'princess',\n",
              " 1659: 'light',\n",
              " 955: 'eyes',\n",
              " 1783: 'makeup',\n",
              " 196: 'awesome',\n",
              " 1733: 'lottie',\n",
              " 202: 'babe',\n",
              " 2221: 'princess light',\n",
              " 1660: 'light eyes',\n",
              " 956: 'eyes great',\n",
              " 1244: 'great makeup',\n",
              " 1784: 'makeup artist',\n",
              " 157: 'artist awesome',\n",
              " 197: 'awesome lottie',\n",
              " 1734: 'lottie please',\n",
              " 2159: 'please follow',\n",
              " 1070: 'follow babe',\n",
              " 2222: 'princess light eyes',\n",
              " 1661: 'light eyes great',\n",
              " 957: 'eyes great makeup',\n",
              " 1245: 'great makeup artist',\n",
              " 1785: 'makeup artist awesome',\n",
              " 158: 'artist awesome lottie',\n",
              " 198: 'awesome lottie please',\n",
              " 1735: 'lottie please follow',\n",
              " 2160: 'please follow babe',\n",
              " 3184: 'worst',\n",
              " 924: 'everydayiloveyou',\n",
              " 1097: 'forevermore',\n",
              " 1778: 'makes',\n",
              " 2266: 'pushawardslizquens',\n",
              " 925: 'everydayiloveyou forevermore',\n",
              " 1098: 'forevermore makes',\n",
              " 1779: 'makes last',\n",
              " 1605: 'last pushawardslizquens',\n",
              " 926: 'everydayiloveyou forevermore makes',\n",
              " 1099: 'forevermore makes last',\n",
              " 1780: 'makes last pushawardslizquens',\n",
              " 2294: 'rain',\n",
              " 1714: 'looked',\n",
              " 243: 'beautiful',\n",
              " 49: 'admire',\n",
              " 2394: 'rose',\n",
              " 689: 'dare',\n",
              " 2067: 'pain',\n",
              " 3155: 'wonder',\n",
              " 291: 'bitter',\n",
              " 82: 'allowed',\n",
              " 3149: 'within',\n",
              " 1428: 'husband',\n",
              " 2169: 'points',\n",
              " 502: 'cheer',\n",
              " 1555: 'killer',\n",
              " 2156: 'playlist',\n",
              " 2397: 'rough',\n",
              " 3207: 'yall',\n",
              " 1363: 'hip',\n",
              " 1609: 'late',\n",
              " 86: 'already',\n",
              " 1697: 'lmfao',\n",
              " 2498: 'shame',\n",
              " 1756: 'luck',\n",
              " 1048: 'fingers',\n",
              " 1216: 'good luck',\n",
              " 46: 'added',\n",
              " 1918: 'music',\n",
              " 1476: 'interested',\n",
              " 1266: 'guest',\n",
              " 2188: 'posting',\n",
              " 302: 'blog',\n",
              " 1854: 'might',\n",
              " 936: 'excellent',\n",
              " 2167: 'podcast',\n",
              " 1645: 'let know',\n",
              " 1145: 'future',\n",
              " 986: 'fans',\n",
              " 2318: 'really',\n",
              " 2480: 'sensitive',\n",
              " 811: 'drake',\n",
              " 2521: 'shout',\n",
              " 1329: 'hearts',\n",
              " 3156: 'wonderful',\n",
              " 1184: 'girls',\n",
              " 2742: 'sugar',\n",
              " 2417: 'sarcasm',\n",
              " 3138: 'wine',\n",
              " 2026: 'omg',\n",
              " 1115: 'freezing',\n",
              " 2392: 'room',\n",
              " 2043: 'open',\n",
              " 3136: 'window',\n",
              " 1223: 'gorgeous',\n",
              " 282: 'bill',\n",
              " 1009: 'feel',\n",
              " 740: 'democracy',\n",
              " 2908: 'totally',\n",
              " 770: 'different',\n",
              " 1493: 'issue',\n",
              " 1011: 'feel like',\n",
              " 407: 'called',\n",
              " 281: 'bike',\n",
              " 1019: 'felt',\n",
              " 3144: 'winter',\n",
              " 1393: 'hoping',\n",
              " 2374: 'ride',\n",
              " 1969: 'news',\n",
              " 2432: 'says',\n",
              " 1920: 'must',\n",
              " 2942: 'true',\n",
              " 2475: 'sending',\n",
              " 154: 'article',\n",
              " 2946: 'truth',\n",
              " 1934: 'nature',\n",
              " 1841: 'mentally',\n",
              " 2528: 'showing',\n",
              " 1881: 'mobile',\n",
              " 1788: 'mall',\n",
              " 1711: 'look',\n",
              " 552: 'coat',\n",
              " 1569: 'knew',\n",
              " 3053: 'walking',\n",
              " 2512: 'shoes',\n",
              " 2075: 'park',\n",
              " 1151: 'gas',\n",
              " 3073: 'warm',\n",
              " 442: 'car',\n",
              " 1898: 'morning',\n",
              " 2248: 'promo',\n",
              " 396: 'bust',\n",
              " 1894: 'month',\n",
              " 2249: 'promote',\n",
              " 2285: 'quiz',\n",
              " 327: 'boss',\n",
              " 2168: 'point',\n",
              " 2342: 'remember',\n",
              " 2906: 'tory',\n",
              " 2860: 'throwing',\n",
              " 1800: 'marketers',\n",
              " 2400: 'ruin',\n",
              " 1202: 'goes',\n",
              " 932: 'evil',\n",
              " 1977: 'nicest',\n",
              " 1593: 'land',\n",
              " 2013: 'offer',\n",
              " 2257: 'public',\n",
              " 3059: 'wanna',\n",
              " 2: '1000',\n",
              " 3186: 'would',\n",
              " 1843: 'mess',\n",
              " 2085: 'past',\n",
              " 2382: 'ripped',\n",
              " 575: 'comments',\n",
              " 2305: 'rather',\n",
              " 2399: 'rude',\n",
              " 1015: 'feels',\n",
              " 3071: 'wants',\n",
              " 722: 'decide',\n",
              " 746: 'deserve',\n",
              " 645: 'crazy',\n",
              " 2658: 'stand',\n",
              " 1351: 'high',\n",
              " 1856: 'mike',\n",
              " 1150: 'games',\n",
              " 728: 'defense',\n",
              " 711: 'dead',\n",
              " 2404: 'run',\n",
              " 1795: 'many people',\n",
              " 1352: 'high school',\n",
              " 1900: 'mother',\n",
              " 741: 'dentist',\n",
              " 1840: 'mental',\n",
              " 1337: 'help',\n",
              " 2366: 'retweets',\n",
              " 1803: 'married',\n",
              " 1632: 'leave',\n",
              " 174: 'asleep',\n",
              " 834: 'dude',\n",
              " 772: 'digital',\n",
              " 890: 'entrepreneur',\n",
              " 815: 'dream',\n",
              " 380: 'building',\n",
              " 393: 'business',\n",
              " 2238: 'products',\n",
              " 2488: 'services',\n",
              " 773: 'digital entrepreneur',\n",
              " 891: 'entrepreneur dream',\n",
              " 816: 'dream building',\n",
              " 381: 'building business',\n",
              " 394: 'business around',\n",
              " 149: 'around digital',\n",
              " 775: 'digital products',\n",
              " 2239: 'products services',\n",
              " 774: 'digital entrepreneur dream',\n",
              " 892: 'entrepreneur dream building',\n",
              " 817: 'dream building business',\n",
              " 382: 'building business around',\n",
              " 395: 'business around digital',\n",
              " 150: 'around digital products',\n",
              " 776: 'digital products services',\n",
              " 135: 'apparently',\n",
              " 3130: 'wife',\n",
              " 2963: 'tweeps',\n",
              " 2165: 'plus',\n",
              " 2177: 'popcorn',\n",
              " 2630: 'spectre',\n",
              " 1315: 'hbd',\n",
              " 1786: 'making',\n",
              " 1614: 'laugh',\n",
              " 1278: 'half',\n",
              " 3032: 'voice',\n",
              " 105: 'analysis',\n",
              " 2292: 'racist',\n",
              " 293: 'blame',\n",
              " 586: 'computer',\n",
              " 37: 'acting',\n",
              " 1176: 'ghost',\n",
              " 3095: 'wedding',\n",
              " 353: 'bride',\n",
              " 1256: 'groom',\n",
              " 354: 'bride groom',\n",
              " 1912: 'much better',\n",
              " 3050: 'walk',\n",
              " 1676: 'line',\n",
              " 1576: 'known',\n",
              " 2854: 'thought',\n",
              " 349: 'break',\n",
              " 2964: 'tweet',\n",
              " 2304: 'rate',\n",
              " 441: 'captain',\n",
              " 97: 'america',\n",
              " 3087: 'ways',\n",
              " 2736: 'success',\n",
              " 824: 'drive',\n",
              " 2429: 'say',\n",
              " 2127: 'pic',\n",
              " 417: 'camera',\n",
              " 2755: 'sure',\n",
              " 1834: 'member',\n",
              " 572: 'coming',\n",
              " 2572: 'smells',\n",
              " 1138: 'fun',\n",
              " 2259: 'pulled',\n",
              " 2132: 'picture',\n",
              " 592: 'congratulations',\n",
              " 113: 'anniversary',\n",
              " 1387: 'hope',\n",
              " 3217: 'years',\n",
              " 1574: 'knowing',\n",
              " 254: 'beginning',\n",
              " 3145: 'wisdom',\n",
              " 1760: 'lyrics',\n",
              " 2324: 'reasons',\n",
              " 1809: 'mate',\n",
              " 671: 'cute',\n",
              " 2269: 'pussy',\n",
              " 3037: 'voted',\n",
              " 1902: 'motion',\n",
              " 1267: 'guide',\n",
              " 2849: 'third',\n",
              " 853: 'economy',\n",
              " 2592: 'solution',\n",
              " 2191: 'pots',\n",
              " 2730: 'style',\n",
              " 2731: 'styles',\n",
              " 813: 'draw',\n",
              " 2734: 'styles thank',\n",
              " 905: 'even best',\n",
              " 1071: 'follow please',\n",
              " 1090: 'food',\n",
              " 2580: 'smoking',\n",
              " 176: 'ate',\n",
              " 237: 'beans',\n",
              " 2463: 'seeing',\n",
              " 210: 'bad',\n",
              " 566: 'come back',\n",
              " 290: 'bitches',\n",
              " 175: 'ass',\n",
              " 715: 'dean',\n",
              " 2805: 'technology',\n",
              " 1608: 'last year',\n",
              " 472: 'certainly',\n",
              " 2644: 'sport',\n",
              " 2507: 'shirt',\n",
              " 2391: 'rolling',\n",
              " 1617: 'laughter',\n",
              " 1065: 'floor',\n",
              " 1401: 'hot',\n",
              " 259: 'ben',\n",
              " 453: 'carson',\n",
              " 1849: 'michael',\n",
              " 1526: 'jordan',\n",
              " 122: 'anti',\n",
              " 292: 'black',\n",
              " 2074: 'parents',\n",
              " 3086: 'way',\n",
              " 744: 'depression',\n",
              " 2739: 'sucks',\n",
              " 1199: 'god',\n",
              " 2147: 'plan',\n",
              " 961: 'facebook',\n",
              " 2121: 'phone',\n",
              " 1436: 'ideas',\n",
              " 796: 'dog',\n",
              " 1706: 'lonely',\n",
              " 1982: 'nights',\n",
              " 3134: 'win',\n",
              " 3140: 'winning',\n",
              " 2049: 'option',\n",
              " 1646: 'lets',\n",
              " 1647: 'lets get',\n",
              " 2467: 'self',\n",
              " 255: 'begins',\n",
              " 1905: 'moved',\n",
              " 2054: 'others',\n",
              " 2776: 'taking',\n",
              " 2140: 'piss',\n",
              " 2124: 'photos',\n",
              " 2323: 'reason',\n",
              " 2202: 'prefer',\n",
              " 3080: 'watch',\n",
              " 1559: 'kind',\n",
              " 580: 'compared',\n",
              " 1883: 'modern',\n",
              " 1845: 'messages',\n",
              " 1622: 'lazy',\n",
              " 1662: 'lights',\n",
              " 44: 'actually',\n",
              " 1522: 'joke',\n",
              " 1368: 'hits',\n",
              " 803: 'dont',\n",
              " 298: 'blessing',\n",
              " 960: 'face',\n",
              " 2244: 'program',\n",
              " 3172: 'workout',\n",
              " 2914: 'towards',\n",
              " 2687: 'staying',\n",
              " 2611: 'sorry',\n",
              " 2185: 'post',\n",
              " 2523: 'show',\n",
              " 338: 'boyfriend',\n",
              " 2270: 'put',\n",
              " 2133: 'pictures',\n",
              " 1188: 'gives',\n",
              " 2230: 'problems',\n",
              " 2669: 'started',\n",
              " 2700: 'stopped',\n",
              " 3143: 'wins',\n",
              " 3115: 'weve',\n",
              " 589: 'confidence',\n",
              " 363: 'bro',\n",
              " 2747: 'summer',\n",
              " 2438: 'schools',\n",
              " 1636: 'leesqanda',\n",
              " 163: 'artistoftheyear',\n",
              " 3034: 'vote',\n",
              " 1534: 'justinbieber',\n",
              " 3038: 'voted artistoftheyear',\n",
              " 164: 'artistoftheyear vote',\n",
              " 3035: 'vote favorite',\n",
              " 999: 'favorite amas',\n",
              " 92: 'amas justinbieber',\n",
              " 3039: 'voted artistoftheyear vote',\n",
              " 165: 'artistoftheyear vote favorite',\n",
              " 3036: 'vote favorite amas',\n",
              " 1000: 'favorite amas justinbieber',\n",
              " 77: 'ali',\n",
              " 1204: 'going',\n",
              " 1264: 'grown',\n",
              " 346: 'brain',\n",
              " 3008: 'use',\n",
              " 1488: 'iron',\n",
              " 2641: 'spoil',\n",
              " 2451: 'season',\n",
              " 2508: 'shit',\n",
              " 3012: 'usually',\n",
              " 1715: 'looked like',\n",
              " 1665: 'like shit',\n",
              " 33: 'across',\n",
              " 2711: 'street',\n",
              " 2176: 'pop',\n",
              " 1758: 'lunch',\n",
              " 34: 'across street',\n",
              " 2128: 'pick',\n",
              " 1247: 'greatest',\n",
              " 296: 'bless',\n",
              " 716: 'dear',\n",
              " 1280: 'halloween',\n",
              " 622: 'costumes',\n",
              " 12: '2015',\n",
              " 1282: 'halloween costumes',\n",
              " 126: 'anyone',\n",
              " 2328: 'recently',\n",
              " 1259: 'group',\n",
              " 1787: 'male',\n",
              " 459: 'caught',\n",
              " 851: 'eat',\n",
              " 209: 'bacon',\n",
              " 1334: 'hell',\n",
              " 2907: 'total',\n",
              " 967: 'fail',\n",
              " 1143: 'funniest',\n",
              " 2352: 'research',\n",
              " 1478: 'international',\n",
              " 3153: 'woman',\n",
              " 2069: 'pair',\n",
              " 2515: 'shopping',\n",
              " 339: 'boys',\n",
              " 493: 'chase',\n",
              " 258: 'believes',\n",
              " 484: 'changing',\n",
              " 538: 'climate',\n",
              " 1671: 'likely',\n",
              " 1623: 'lead',\n",
              " 3225: 'young',\n",
              " 864: 'embrace',\n",
              " 527: 'church',\n",
              " 2421: 'sat',\n",
              " 1403: 'hotel',\n",
              " 1541: 'keeping',\n",
              " 2830: 'thankyou',\n",
              " 2793: 'taylor',\n",
              " 1154: 'gcpr',\n",
              " 2494: 'sexual',\n",
              " 2975: 'ugh',\n",
              " 971: 'faith',\n",
              " 2862: 'thus',\n",
              " 2224: 'prison',\n",
              " 848: 'easily',\n",
              " 1303: 'hard',\n",
              " 1059: 'fitness',\n",
              " 1684: 'listen',\n",
              " 2782: 'talkradio',\n",
              " 3222: 'yet',\n",
              " 963: 'fact',\n",
              " 2738: 'suck',\n",
              " 1689: 'little',\n",
              " 1172: 'get home',\n",
              " 2387: 'rocks',\n",
              " 1591: 'lake',\n",
              " 613: 'coolest',\n",
              " 845: 'earth',\n",
              " 1470: 'inspire',\n",
              " 481: 'change',\n",
              " 2722: 'stuck',\n",
              " 1272: 'gym',\n",
              " 2537: 'signs',\n",
              " 2466: 'seen',\n",
              " 1309: 'hate',\n",
              " 1528: 'judge',\n",
              " 1462: 'indeed',\n",
              " 2699: 'stop',\n",
              " 1479: 'internet',\n",
              " 1906: 'movement',\n",
              " 972: 'fake',\n",
              " 2256: 'ps4',\n",
              " 1060: 'five',\n",
              " 2947: 'try',\n",
              " 1324: 'heard',\n",
              " 1269: 'gun',\n",
              " 2518: 'shot',\n",
              " 2724: 'students',\n",
              " 2347: 'reply',\n",
              " 1852: 'middle',\n",
              " 257: 'believe',\n",
              " 325: 'boring',\n",
              " 405: 'california',\n",
              " 3091: 'weather',\n",
              " 885: 'enough',\n",
              " 67: 'ahead',\n",
              " 1330: 'heat',\n",
              " 1167: 'get best',\n",
              " 1061: 'fix',\n",
              " 846: 'earthquake',\n",
              " 717: 'death',\n",
              " 914: 'ever',\n",
              " 1933: 'natural',\n",
              " 61: 'agency',\n",
              " ...}"
            ]
          },
          "metadata": {},
          "execution_count": 309
        }
      ]
    }
  ]
}